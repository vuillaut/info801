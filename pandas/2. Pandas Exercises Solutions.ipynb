{
 "cells": [
  {
   "cell_type": "markdown",
   "metadata": {
    "slideshow": {
     "slide_type": "slide"
    }
   },
   "source": [
    "# Pandas Exercises\n",
    "\n",
    "Tamás Gál (tamas.gal@fau.de)\n",
    "\n",
    "The latest version of this notebook is available at [https://github.com/escape2020/school2021](https://github.com/escape2020/school2021)"
   ]
  },
  {
   "cell_type": "code",
   "execution_count": 1,
   "metadata": {
    "slideshow": {
     "slide_type": "slide"
    }
   },
   "outputs": [
    {
     "name": "stdout",
     "output_type": "stream",
     "text": [
      "Python version: 3.9.4 | packaged by conda-forge | (default, May 10 2021, 22:10:52) \n",
      "[Clang 11.1.0 ]\n",
      "Pandas version: 1.2.4\n",
      "NumPy version: 1.20.3\n",
      "Matplotlib version: 3.4.2\n",
      "seaborn version: 0.11.1\n"
     ]
    }
   ],
   "source": [
    "%matplotlib inline\n",
    "import pandas as pd\n",
    "import numpy as np\n",
    "import seaborn as sns\n",
    "import matplotlib as ml\n",
    "import sys\n",
    "plt = ml.pyplot\n",
    "ml.rcParams['figure.figsize'] = (10.0, 5.0)\n",
    "\n",
    "print(f\"Python version: {sys.version}\\n\"\n",
    "      f\"Pandas version: {pd.__version__}\\n\"\n",
    "      f\"NumPy version: {np.__version__}\\n\"\n",
    "      f\"Matplotlib version: {ml.__version__}\\n\"\n",
    "      f\"seaborn version: {sns.__version__}\")"
   ]
  },
  {
   "cell_type": "code",
   "execution_count": 2,
   "metadata": {
    "slideshow": {
     "slide_type": "slide"
    }
   },
   "outputs": [],
   "source": [
    "from IPython.core.magic import register_line_magic\n",
    "\n",
    "@register_line_magic\n",
    "def shorterr(line):\n",
    "    \"\"\"Show only the exception message if one is raised.\"\"\"\n",
    "    try:\n",
    "        output = eval(line)\n",
    "    except Exception as e:\n",
    "        print(\"\\x1b[31m\\x1b[1m{e.__class__.__name__}: {e}\\x1b[0m\".format(e=e))\n",
    "    else:\n",
    "        return output\n",
    "    \n",
    "del shorterr"
   ]
  },
  {
   "cell_type": "code",
   "execution_count": 3,
   "metadata": {
    "slideshow": {
     "slide_type": "skip"
    }
   },
   "outputs": [],
   "source": [
    "import warnings\n",
    "warnings.filterwarnings('ignore')  # annoying UserWarnings from Jupyter/seaborn which are not fixed yet"
   ]
  },
  {
   "cell_type": "markdown",
   "metadata": {
    "slideshow": {
     "slide_type": "slide"
    }
   },
   "source": [
    "## Exercise 1\n",
    "\n",
    "Use the `pd.read_csv()` function to create a `DataFrame` from the dataset `data/neutrinos.csv`."
   ]
  },
  {
   "cell_type": "code",
   "execution_count": 4,
   "metadata": {
    "slideshow": {
     "slide_type": "subslide"
    }
   },
   "outputs": [
    {
     "name": "stdout",
     "output_type": "stream",
     "text": [
      "\u001b[31m\u001b[1mSyntaxError: invalid syntax (<string>, line 1)\u001b[0m\n"
     ]
    }
   ],
   "source": [
    "%shorterr neutrinos = pd.read_csv('data/neutrinos.csv')"
   ]
  },
  {
   "cell_type": "markdown",
   "metadata": {
    "slideshow": {
     "slide_type": "slide"
    }
   },
   "source": [
    "### Problems encountered\n",
    "\n",
    "- the first few lines represent a plain header and need to be skipped\n",
    "- comments are indicated with `$` at the beginning of the line\n",
    "- the column separator is `:`\n",
    "- the decimal delimiter is `,`\n",
    "- the index column is the first one\n",
    "- there is a footer to be excluded\n",
    "- footer exclusion only works with the Python-engine"
   ]
  },
  {
   "cell_type": "markdown",
   "metadata": {
    "slideshow": {
     "slide_type": "slide"
    }
   },
   "source": [
    "### Solution to exercise 1"
   ]
  },
  {
   "cell_type": "code",
   "execution_count": 5,
   "metadata": {},
   "outputs": [
    {
     "name": "stdout",
     "output_type": "stream",
     "text": [
      "Provided by Moritz Lotze, unformatted by Tamas Gal for teaching purposes,\n",
      "Moritz would never hand out such a mess ;)\n",
      "\n",
      "Have fun!\n",
      "\n",
      "$ Column names\n",
      ":azimuth:zenith:bjorkeny:energy:pos_x:pos_y:pos_z:proba_track:proba_cscd\n",
      "\n",
      "$ Data\n",
      "0:2,3495370211373316:1,1160038417256017:0,04899799823760986:3,3664000034332275:52,74:28,831:401,18600000000004:0,8243512974051896:0,17564870259481039\n",
      "1:5,575785663044353:1,7428377336692398:0,28047099709510803:3,890000104904175:48,369:29,865:417,282:0,8183632734530938:0,18163672654690619\n",
      "2:4,656124692722159:2,686909147834136:0,1198429986834526:3,2335000038146973:71,722:121,449:363,077:0,8283433133732535:0,17165668662674652\n",
      "3:0,5204858401306308:1,939325715443025:0,06131500005722046:4,783999919891357:-47,592:-84,466:350,687:0,8423153692614771:0,15768463073852296\n",
      "4:2,8569704309044184:1,6788966833786627:0,06146499887108803:3,983299970626831:-25,518:24,362:391,891:0,8622754491017964:0,1377245508982036\n",
      "5:5,519597420755324:2,2190143556767175:0,15195700526237488:4,667799949645996:31,394:59,333:398,322:0,9700598802395209:0,029940119760479042\n"
     ]
    }
   ],
   "source": [
    "!head -n 15 data/neutrinos.csv"
   ]
  },
  {
   "cell_type": "code",
   "execution_count": 6,
   "metadata": {
    "slideshow": {
     "slide_type": "fragment"
    }
   },
   "outputs": [],
   "source": [
    "neutrinos = pd.read_csv('data/neutrinos.csv',\n",
    "                        skiprows=5,\n",
    "                        comment='$',\n",
    "                        sep=':',\n",
    "                        decimal=',',\n",
    "                        index_col=0,\n",
    "                        skipfooter=1,\n",
    "                        engine='python')"
   ]
  },
  {
   "cell_type": "code",
   "execution_count": 7,
   "metadata": {
    "slideshow": {
     "slide_type": "fragment"
    }
   },
   "outputs": [
    {
     "data": {
      "text/html": [
       "<div>\n",
       "<style scoped>\n",
       "    .dataframe tbody tr th:only-of-type {\n",
       "        vertical-align: middle;\n",
       "    }\n",
       "\n",
       "    .dataframe tbody tr th {\n",
       "        vertical-align: top;\n",
       "    }\n",
       "\n",
       "    .dataframe thead th {\n",
       "        text-align: right;\n",
       "    }\n",
       "</style>\n",
       "<table border=\"1\" class=\"dataframe\">\n",
       "  <thead>\n",
       "    <tr style=\"text-align: right;\">\n",
       "      <th></th>\n",
       "      <th>azimuth</th>\n",
       "      <th>zenith</th>\n",
       "      <th>bjorkeny</th>\n",
       "      <th>energy</th>\n",
       "      <th>pos_x</th>\n",
       "      <th>pos_y</th>\n",
       "      <th>pos_z</th>\n",
       "      <th>proba_track</th>\n",
       "      <th>proba_cscd</th>\n",
       "    </tr>\n",
       "  </thead>\n",
       "  <tbody>\n",
       "    <tr>\n",
       "      <th>0</th>\n",
       "      <td>2.349537</td>\n",
       "      <td>1.116004</td>\n",
       "      <td>0.04899799823760986</td>\n",
       "      <td>3.3664</td>\n",
       "      <td>52.740</td>\n",
       "      <td>28.831</td>\n",
       "      <td>401.186</td>\n",
       "      <td>0.824351</td>\n",
       "      <td>0.175649</td>\n",
       "    </tr>\n",
       "    <tr>\n",
       "      <th>1</th>\n",
       "      <td>5.575786</td>\n",
       "      <td>1.742838</td>\n",
       "      <td>0.28047099709510803</td>\n",
       "      <td>3.8900</td>\n",
       "      <td>48.369</td>\n",
       "      <td>29.865</td>\n",
       "      <td>417.282</td>\n",
       "      <td>0.818363</td>\n",
       "      <td>0.181637</td>\n",
       "    </tr>\n",
       "    <tr>\n",
       "      <th>2</th>\n",
       "      <td>4.656125</td>\n",
       "      <td>2.686909</td>\n",
       "      <td>0.1198429986834526</td>\n",
       "      <td>3.2335</td>\n",
       "      <td>71.722</td>\n",
       "      <td>121.449</td>\n",
       "      <td>363.077</td>\n",
       "      <td>0.828343</td>\n",
       "      <td>0.171657</td>\n",
       "    </tr>\n",
       "  </tbody>\n",
       "</table>\n",
       "</div>"
      ],
      "text/plain": [
       "    azimuth    zenith             bjorkeny  energy   pos_x    pos_y    pos_z  \\\n",
       "0  2.349537  1.116004  0.04899799823760986  3.3664  52.740   28.831  401.186   \n",
       "1  5.575786  1.742838  0.28047099709510803  3.8900  48.369   29.865  417.282   \n",
       "2  4.656125  2.686909   0.1198429986834526  3.2335  71.722  121.449  363.077   \n",
       "\n",
       "   proba_track  proba_cscd  \n",
       "0     0.824351    0.175649  \n",
       "1     0.818363    0.181637  \n",
       "2     0.828343    0.171657  "
      ]
     },
     "execution_count": 7,
     "metadata": {},
     "output_type": "execute_result"
    }
   ],
   "source": [
    "neutrinos.head(3)"
   ]
  },
  {
   "cell_type": "markdown",
   "metadata": {
    "slideshow": {
     "slide_type": "subslide"
    }
   },
   "source": [
    "### Check the dtypes to make sure everthing is parsed correctly (and is not an `object`-array)"
   ]
  },
  {
   "cell_type": "code",
   "execution_count": 8,
   "metadata": {
    "slideshow": {
     "slide_type": "fragment"
    }
   },
   "outputs": [
    {
     "data": {
      "text/plain": [
       "azimuth        float64\n",
       "zenith         float64\n",
       "bjorkeny        object\n",
       "energy         float64\n",
       "pos_x          float64\n",
       "pos_y          float64\n",
       "pos_z          float64\n",
       "proba_track    float64\n",
       "proba_cscd     float64\n",
       "dtype: object"
      ]
     },
     "execution_count": 8,
     "metadata": {},
     "output_type": "execute_result"
    }
   ],
   "source": [
    "neutrinos.dtypes"
   ]
  },
  {
   "cell_type": "markdown",
   "metadata": {
    "slideshow": {
     "slide_type": "fragment"
    }
   },
   "source": [
    "`bjorkeny` is still a problem, since its type could not be inferred by `numpy`!"
   ]
  },
  {
   "cell_type": "code",
   "execution_count": 9,
   "metadata": {
    "slideshow": {
     "slide_type": "subslide"
    }
   },
   "outputs": [
    {
     "name": "stdout",
     "output_type": "stream",
     "text": [
      "\u001b[31m\u001b[1mValueError: could not convert string to float: '4,999999873689376e-05'\u001b[0m\n"
     ]
    }
   ],
   "source": [
    "%shorterr neutrinos.bjorkeny.astype(float)  # this reveals that we still have `,` as separator"
   ]
  },
  {
   "cell_type": "code",
   "execution_count": 10,
   "metadata": {
    "slideshow": {
     "slide_type": "fragment"
    }
   },
   "outputs": [
    {
     "data": {
      "text/plain": [
       "2"
      ]
     },
     "execution_count": 10,
     "metadata": {},
     "output_type": "execute_result"
    }
   ],
   "source": [
    "sum(',' in b for b in neutrinos.bjorkeny)  # two values have `,` in them"
   ]
  },
  {
   "cell_type": "code",
   "execution_count": 11,
   "metadata": {
    "slideshow": {
     "slide_type": "fragment"
    }
   },
   "outputs": [
    {
     "data": {
      "text/html": [
       "<div>\n",
       "<style scoped>\n",
       "    .dataframe tbody tr th:only-of-type {\n",
       "        vertical-align: middle;\n",
       "    }\n",
       "\n",
       "    .dataframe tbody tr th {\n",
       "        vertical-align: top;\n",
       "    }\n",
       "\n",
       "    .dataframe thead th {\n",
       "        text-align: right;\n",
       "    }\n",
       "</style>\n",
       "<table border=\"1\" class=\"dataframe\">\n",
       "  <thead>\n",
       "    <tr style=\"text-align: right;\">\n",
       "      <th></th>\n",
       "      <th>azimuth</th>\n",
       "      <th>zenith</th>\n",
       "      <th>bjorkeny</th>\n",
       "      <th>energy</th>\n",
       "      <th>pos_x</th>\n",
       "      <th>pos_y</th>\n",
       "      <th>pos_z</th>\n",
       "      <th>proba_track</th>\n",
       "      <th>proba_cscd</th>\n",
       "    </tr>\n",
       "  </thead>\n",
       "  <tbody>\n",
       "    <tr>\n",
       "      <th>25958</th>\n",
       "      <td>2.309464</td>\n",
       "      <td>1.575072</td>\n",
       "      <td>4,999999873689376e-05</td>\n",
       "      <td>30.391001</td>\n",
       "      <td>44.431</td>\n",
       "      <td>-10.498</td>\n",
       "      <td>436.929</td>\n",
       "      <td>1.0</td>\n",
       "      <td>0.0</td>\n",
       "    </tr>\n",
       "    <tr>\n",
       "      <th>29803</th>\n",
       "      <td>4.011943</td>\n",
       "      <td>2.467239</td>\n",
       "      <td>9,899999713525176e-05</td>\n",
       "      <td>31.641001</td>\n",
       "      <td>56.129</td>\n",
       "      <td>-87.262</td>\n",
       "      <td>396.509</td>\n",
       "      <td>1.0</td>\n",
       "      <td>0.0</td>\n",
       "    </tr>\n",
       "  </tbody>\n",
       "</table>\n",
       "</div>"
      ],
      "text/plain": [
       "        azimuth    zenith               bjorkeny     energy   pos_x   pos_y  \\\n",
       "25958  2.309464  1.575072  4,999999873689376e-05  30.391001  44.431 -10.498   \n",
       "29803  4.011943  2.467239  9,899999713525176e-05  31.641001  56.129 -87.262   \n",
       "\n",
       "         pos_z  proba_track  proba_cscd  \n",
       "25958  436.929          1.0         0.0  \n",
       "29803  396.509          1.0         0.0  "
      ]
     },
     "execution_count": 11,
     "metadata": {},
     "output_type": "execute_result"
    }
   ],
   "source": [
    "bjorkeny_with_comma_mask = neutrinos.bjorkeny.str.contains(',');  # a boolean mask which marks our two bad guys\n",
    "neutrinos[bjorkeny_with_comma_mask]"
   ]
  },
  {
   "cell_type": "code",
   "execution_count": 12,
   "metadata": {
    "slideshow": {
     "slide_type": "fragment"
    }
   },
   "outputs": [],
   "source": [
    "neutrinos.bjorkeny = neutrinos.bjorkeny.str.replace(',', '.').astype(float)"
   ]
  },
  {
   "cell_type": "code",
   "execution_count": 13,
   "metadata": {
    "slideshow": {
     "slide_type": "subslide"
    }
   },
   "outputs": [
    {
     "data": {
      "text/plain": [
       "azimuth        float64\n",
       "zenith         float64\n",
       "bjorkeny       float64\n",
       "energy         float64\n",
       "pos_x          float64\n",
       "pos_y          float64\n",
       "pos_z          float64\n",
       "proba_track    float64\n",
       "proba_cscd     float64\n",
       "dtype: object"
      ]
     },
     "execution_count": 13,
     "metadata": {},
     "output_type": "execute_result"
    }
   ],
   "source": [
    "neutrinos.dtypes  # everything's ok now ;)"
   ]
  },
  {
   "cell_type": "markdown",
   "metadata": {
    "slideshow": {
     "slide_type": "slide"
    }
   },
   "source": [
    "## Exercise 2\n",
    "\n",
    "Create a histogram of the neutrino energies."
   ]
  },
  {
   "cell_type": "markdown",
   "metadata": {
    "slideshow": {
     "slide_type": "slide"
    }
   },
   "source": [
    "### Solution to exercise 2"
   ]
  },
  {
   "cell_type": "code",
   "execution_count": 14,
   "metadata": {
    "slideshow": {
     "slide_type": "fragment"
    }
   },
   "outputs": [
    {
     "data": {
      "text/plain": [
       "array([[<AxesSubplot:title={'center':'energy'}>]], dtype=object)"
      ]
     },
     "execution_count": 14,
     "metadata": {},
     "output_type": "execute_result"
    },
    {
     "data": {
      "image/png": "[encoded data removed]",
      "text/plain": [
       "<Figure size 720x360 with 1 Axes>"
      ]
     },
     "metadata": {
      "needs_background": "light"
     },
     "output_type": "display_data"
    },
    {
     "data": {
      "image/png": "[encoded data removed]",
      "text/plain": [
       "<Figure size 720x360 with 1 Axes>"
      ]
     },
     "metadata": {
      "needs_background": "light"
     },
     "output_type": "display_data"
    }
   ],
   "source": [
    "neutrinos.energy.hist(bins=100)\n",
    "plt.xlabel('Neutrino energy [GeV]');\n",
    "plt.ylabel('Count');\n",
    "\n",
    "neutrinos.hist('energy', bins=100)"
   ]
  },
  {
   "cell_type": "markdown",
   "metadata": {
    "slideshow": {
     "slide_type": "slide"
    }
   },
   "source": [
    "## Exercise 3\n",
    "\n",
    "Use the `pd.read_csv()` function to create a `DataFrame` from the dataset `data/reco.csv`."
   ]
  },
  {
   "cell_type": "markdown",
   "metadata": {
    "slideshow": {
     "slide_type": "fragment"
    }
   },
   "source": [
    "### Problems encountered\n",
    "\n",
    "- need to define index column"
   ]
  },
  {
   "cell_type": "markdown",
   "metadata": {
    "slideshow": {
     "slide_type": "slide"
    }
   },
   "source": [
    "### Solution to exercise 3"
   ]
  },
  {
   "cell_type": "code",
   "execution_count": 15,
   "metadata": {
    "slideshow": {
     "slide_type": "fragment"
    }
   },
   "outputs": [
    {
     "data": {
      "text/html": [
       "<div>\n",
       "<style scoped>\n",
       "    .dataframe tbody tr th:only-of-type {\n",
       "        vertical-align: middle;\n",
       "    }\n",
       "\n",
       "    .dataframe tbody tr th {\n",
       "        vertical-align: top;\n",
       "    }\n",
       "\n",
       "    .dataframe thead th {\n",
       "        text-align: right;\n",
       "    }\n",
       "</style>\n",
       "<table border=\"1\" class=\"dataframe\">\n",
       "  <thead>\n",
       "    <tr style=\"text-align: right;\">\n",
       "      <th></th>\n",
       "      <th>zenith</th>\n",
       "      <th>azimuth</th>\n",
       "      <th>energy_muon</th>\n",
       "      <th>energy_neutrino</th>\n",
       "      <th>bjorken_y</th>\n",
       "      <th>quality</th>\n",
       "      <th>pos_x</th>\n",
       "      <th>pos_y</th>\n",
       "      <th>pos_z</th>\n",
       "    </tr>\n",
       "  </thead>\n",
       "  <tbody>\n",
       "    <tr>\n",
       "      <th>0</th>\n",
       "      <td>1.138133</td>\n",
       "      <td>2.180345</td>\n",
       "      <td>0.291326</td>\n",
       "      <td>1.968828</td>\n",
       "      <td>0.125</td>\n",
       "      <td>-4.354237</td>\n",
       "      <td>48.916672</td>\n",
       "      <td>32.404689</td>\n",
       "      <td>-6.251441</td>\n",
       "    </tr>\n",
       "    <tr>\n",
       "      <th>1</th>\n",
       "      <td>1.501718</td>\n",
       "      <td>4.300291</td>\n",
       "      <td>2.247325</td>\n",
       "      <td>3.973614</td>\n",
       "      <td>0.125</td>\n",
       "      <td>-4.853344</td>\n",
       "      <td>59.164913</td>\n",
       "      <td>26.016755</td>\n",
       "      <td>12.737107</td>\n",
       "    </tr>\n",
       "    <tr>\n",
       "      <th>2</th>\n",
       "      <td>2.160066</td>\n",
       "      <td>4.228711</td>\n",
       "      <td>1.748958</td>\n",
       "      <td>3.390933</td>\n",
       "      <td>0.125</td>\n",
       "      <td>-3.836176</td>\n",
       "      <td>69.988323</td>\n",
       "      <td>116.081679</td>\n",
       "      <td>-35.060437</td>\n",
       "    </tr>\n",
       "    <tr>\n",
       "      <th>3</th>\n",
       "      <td>2.016892</td>\n",
       "      <td>0.621110</td>\n",
       "      <td>6.099985</td>\n",
       "      <td>6.643886</td>\n",
       "      <td>0.625</td>\n",
       "      <td>-4.556744</td>\n",
       "      <td>-48.878254</td>\n",
       "      <td>-86.933884</td>\n",
       "      <td>-57.699791</td>\n",
       "    </tr>\n",
       "    <tr>\n",
       "      <th>4</th>\n",
       "      <td>1.944401</td>\n",
       "      <td>3.030613</td>\n",
       "      <td>4.212069</td>\n",
       "      <td>5.967662</td>\n",
       "      <td>0.125</td>\n",
       "      <td>-4.927643</td>\n",
       "      <td>-32.267179</td>\n",
       "      <td>26.163239</td>\n",
       "      <td>-12.441818</td>\n",
       "    </tr>\n",
       "  </tbody>\n",
       "</table>\n",
       "</div>"
      ],
      "text/plain": [
       "     zenith   azimuth  energy_muon  energy_neutrino  bjorken_y   quality  \\\n",
       "0  1.138133  2.180345     0.291326         1.968828      0.125 -4.354237   \n",
       "1  1.501718  4.300291     2.247325         3.973614      0.125 -4.853344   \n",
       "2  2.160066  4.228711     1.748958         3.390933      0.125 -3.836176   \n",
       "3  2.016892  0.621110     6.099985         6.643886      0.625 -4.556744   \n",
       "4  1.944401  3.030613     4.212069         5.967662      0.125 -4.927643   \n",
       "\n",
       "       pos_x       pos_y      pos_z  \n",
       "0  48.916672   32.404689  -6.251441  \n",
       "1  59.164913   26.016755  12.737107  \n",
       "2  69.988323  116.081679 -35.060437  \n",
       "3 -48.878254  -86.933884 -57.699791  \n",
       "4 -32.267179   26.163239 -12.441818  "
      ]
     },
     "execution_count": 15,
     "metadata": {},
     "output_type": "execute_result"
    }
   ],
   "source": [
    "reco = pd.read_csv('data/reco.csv', index_col=0)\n",
    "reco.head()"
   ]
  },
  {
   "cell_type": "markdown",
   "metadata": {
    "slideshow": {
     "slide_type": "slide"
    }
   },
   "source": [
    "## Exercise 4\n",
    "\n",
    "Combine the `neutrinos` and `reco` `DataFrames`  into a single `DataFrame`\n",
    "\n",
    "pd.concat()"
   ]
  },
  {
   "cell_type": "markdown",
   "metadata": {
    "slideshow": {
     "slide_type": "fragment"
    }
   },
   "source": [
    "### Problems encountered\n",
    "\n",
    "- need to define the right axis\n",
    "- identical column names should be avoided"
   ]
  },
  {
   "cell_type": "markdown",
   "metadata": {
    "slideshow": {
     "slide_type": "slide"
    }
   },
   "source": [
    "### Solution to exercise 4"
   ]
  },
  {
   "cell_type": "code",
   "execution_count": 16,
   "metadata": {
    "slideshow": {
     "slide_type": "fragment"
    }
   },
   "outputs": [],
   "source": [
    "data = pd.concat([neutrinos, reco.add_prefix('reco_')], axis=\"columns\")"
   ]
  },
  {
   "cell_type": "code",
   "execution_count": 17,
   "metadata": {
    "slideshow": {
     "slide_type": "fragment"
    }
   },
   "outputs": [
    {
     "data": {
      "text/html": [
       "<div>\n",
       "<style scoped>\n",
       "    .dataframe tbody tr th:only-of-type {\n",
       "        vertical-align: middle;\n",
       "    }\n",
       "\n",
       "    .dataframe tbody tr th {\n",
       "        vertical-align: top;\n",
       "    }\n",
       "\n",
       "    .dataframe thead th {\n",
       "        text-align: right;\n",
       "    }\n",
       "</style>\n",
       "<table border=\"1\" class=\"dataframe\">\n",
       "  <thead>\n",
       "    <tr style=\"text-align: right;\">\n",
       "      <th></th>\n",
       "      <th>azimuth</th>\n",
       "      <th>zenith</th>\n",
       "      <th>bjorkeny</th>\n",
       "      <th>energy</th>\n",
       "      <th>pos_x</th>\n",
       "      <th>pos_y</th>\n",
       "      <th>pos_z</th>\n",
       "      <th>proba_track</th>\n",
       "      <th>proba_cscd</th>\n",
       "      <th>reco_zenith</th>\n",
       "      <th>reco_azimuth</th>\n",
       "      <th>reco_energy_muon</th>\n",
       "      <th>reco_energy_neutrino</th>\n",
       "      <th>reco_bjorken_y</th>\n",
       "      <th>reco_quality</th>\n",
       "      <th>reco_pos_x</th>\n",
       "      <th>reco_pos_y</th>\n",
       "      <th>reco_pos_z</th>\n",
       "    </tr>\n",
       "  </thead>\n",
       "  <tbody>\n",
       "    <tr>\n",
       "      <th>0</th>\n",
       "      <td>2.349537</td>\n",
       "      <td>1.116004</td>\n",
       "      <td>0.048998</td>\n",
       "      <td>3.3664</td>\n",
       "      <td>52.740</td>\n",
       "      <td>28.831</td>\n",
       "      <td>401.186</td>\n",
       "      <td>0.824351</td>\n",
       "      <td>0.175649</td>\n",
       "      <td>1.138133</td>\n",
       "      <td>2.180345</td>\n",
       "      <td>0.291326</td>\n",
       "      <td>1.968828</td>\n",
       "      <td>0.125</td>\n",
       "      <td>-4.354237</td>\n",
       "      <td>48.916672</td>\n",
       "      <td>32.404689</td>\n",
       "      <td>-6.251441</td>\n",
       "    </tr>\n",
       "    <tr>\n",
       "      <th>1</th>\n",
       "      <td>5.575786</td>\n",
       "      <td>1.742838</td>\n",
       "      <td>0.280471</td>\n",
       "      <td>3.8900</td>\n",
       "      <td>48.369</td>\n",
       "      <td>29.865</td>\n",
       "      <td>417.282</td>\n",
       "      <td>0.818363</td>\n",
       "      <td>0.181637</td>\n",
       "      <td>1.501718</td>\n",
       "      <td>4.300291</td>\n",
       "      <td>2.247325</td>\n",
       "      <td>3.973614</td>\n",
       "      <td>0.125</td>\n",
       "      <td>-4.853344</td>\n",
       "      <td>59.164913</td>\n",
       "      <td>26.016755</td>\n",
       "      <td>12.737107</td>\n",
       "    </tr>\n",
       "    <tr>\n",
       "      <th>2</th>\n",
       "      <td>4.656125</td>\n",
       "      <td>2.686909</td>\n",
       "      <td>0.119843</td>\n",
       "      <td>3.2335</td>\n",
       "      <td>71.722</td>\n",
       "      <td>121.449</td>\n",
       "      <td>363.077</td>\n",
       "      <td>0.828343</td>\n",
       "      <td>0.171657</td>\n",
       "      <td>2.160066</td>\n",
       "      <td>4.228711</td>\n",
       "      <td>1.748958</td>\n",
       "      <td>3.390933</td>\n",
       "      <td>0.125</td>\n",
       "      <td>-3.836176</td>\n",
       "      <td>69.988323</td>\n",
       "      <td>116.081679</td>\n",
       "      <td>-35.060437</td>\n",
       "    </tr>\n",
       "  </tbody>\n",
       "</table>\n",
       "</div>"
      ],
      "text/plain": [
       "    azimuth    zenith  bjorkeny  energy   pos_x    pos_y    pos_z  \\\n",
       "0  2.349537  1.116004  0.048998  3.3664  52.740   28.831  401.186   \n",
       "1  5.575786  1.742838  0.280471  3.8900  48.369   29.865  417.282   \n",
       "2  4.656125  2.686909  0.119843  3.2335  71.722  121.449  363.077   \n",
       "\n",
       "   proba_track  proba_cscd  reco_zenith  reco_azimuth  reco_energy_muon  \\\n",
       "0     0.824351    0.175649     1.138133      2.180345          0.291326   \n",
       "1     0.818363    0.181637     1.501718      4.300291          2.247325   \n",
       "2     0.828343    0.171657     2.160066      4.228711          1.748958   \n",
       "\n",
       "   reco_energy_neutrino  reco_bjorken_y  reco_quality  reco_pos_x  reco_pos_y  \\\n",
       "0              1.968828           0.125     -4.354237   48.916672   32.404689   \n",
       "1              3.973614           0.125     -4.853344   59.164913   26.016755   \n",
       "2              3.390933           0.125     -3.836176   69.988323  116.081679   \n",
       "\n",
       "   reco_pos_z  \n",
       "0   -6.251441  \n",
       "1   12.737107  \n",
       "2  -35.060437  "
      ]
     },
     "execution_count": 17,
     "metadata": {},
     "output_type": "execute_result"
    }
   ],
   "source": [
    "data.head(3)"
   ]
  },
  {
   "cell_type": "code",
   "execution_count": 18,
   "metadata": {
    "slideshow": {
     "slide_type": "fragment"
    }
   },
   "outputs": [
    {
     "data": {
      "text/plain": [
       "Index(['azimuth', 'zenith', 'bjorkeny', 'energy', 'pos_x', 'pos_y', 'pos_z',\n",
       "       'proba_track', 'proba_cscd', 'reco_zenith', 'reco_azimuth',\n",
       "       'reco_energy_muon', 'reco_energy_neutrino', 'reco_bjorken_y',\n",
       "       'reco_quality', 'reco_pos_x', 'reco_pos_y', 'reco_pos_z'],\n",
       "      dtype='object')"
      ]
     },
     "execution_count": 18,
     "metadata": {},
     "output_type": "execute_result"
    }
   ],
   "source": [
    "data.columns"
   ]
  },
  {
   "cell_type": "markdown",
   "metadata": {
    "slideshow": {
     "slide_type": "slide"
    }
   },
   "source": [
    "## Exercise 5\n",
    "\n",
    "Make a scatter plot to visualise the zenith reconstruction quality.\n",
    "\n",
    "`data = pd.concat([neutrinos reco.add_prefix('reco_')], axis=\"columns\")`"
   ]
  },
  {
   "cell_type": "markdown",
   "metadata": {
    "slideshow": {
     "slide_type": "fragment"
    }
   },
   "source": [
    "### Problems encountered\n",
    "\n",
    "- `DataFrame.plot()` is not suited to do scatter plots in earlier Pandas versions (inverts axis, sets weird limits etc.)"
   ]
  },
  {
   "cell_type": "markdown",
   "metadata": {
    "slideshow": {
     "slide_type": "slide"
    }
   },
   "source": [
    "#### Sometimes it's better not to fight against `DataFrame.plot()`, just switch to Matplotlib ;)"
   ]
  },
  {
   "cell_type": "code",
   "execution_count": 19,
   "metadata": {
    "slideshow": {
     "slide_type": "fragment"
    }
   },
   "outputs": [
    {
     "data": {
      "image/png": "[encoded data removed]",
      "text/plain": [
       "<Figure size 720x360 with 1 Axes>"
      ]
     },
     "metadata": {
      "needs_background": "light"
     },
     "output_type": "display_data"
    }
   ],
   "source": [
    "data.plot(x='zenith', y='reco_zenith', style='.');"
   ]
  },
  {
   "cell_type": "markdown",
   "metadata": {
    "slideshow": {
     "slide_type": "slide"
    }
   },
   "source": [
    "### Solution to exercise 5, using `plt.scatter()`"
   ]
  },
  {
   "cell_type": "code",
   "execution_count": 20,
   "metadata": {
    "slideshow": {
     "slide_type": "fragment"
    }
   },
   "outputs": [
    {
     "data": {
      "image/png": "[encoded data removed]",
      "text/plain": [
       "<Figure size 720x360 with 1 Axes>"
      ]
     },
     "metadata": {
      "needs_background": "light"
     },
     "output_type": "display_data"
    }
   ],
   "source": [
    "fig, ax = plt.subplots()\n",
    "ax.scatter(data['zenith'], data['reco_zenith'], alpha=0.01);\n",
    "ax.set_xlabel('True zenith');\n",
    "ax.set_ylabel('Reconstructed zenith');"
   ]
  },
  {
   "cell_type": "markdown",
   "metadata": {
    "slideshow": {
     "slide_type": "slide"
    }
   },
   "source": [
    "### Solution to exercise 5, using `plt.hist2d()`"
   ]
  },
  {
   "cell_type": "code",
   "execution_count": 21,
   "metadata": {
    "slideshow": {
     "slide_type": "fragment"
    }
   },
   "outputs": [
    {
     "data": {
      "text/plain": [
       "<matplotlib.colorbar.Colorbar at 0x14f537b80>"
      ]
     },
     "execution_count": 21,
     "metadata": {},
     "output_type": "execute_result"
    },
    {
     "data": {
      "image/png": "[encoded data removed]",
      "text/plain": [
       "<Figure size 720x360 with 2 Axes>"
      ]
     },
     "metadata": {
      "needs_background": "light"
     },
     "output_type": "display_data"
    }
   ],
   "source": [
    "fig, ax = plt.subplots()\n",
    "counts, xedges, yedges, im = ax.hist2d(data['zenith'], data['reco_zenith'], bins=50);\n",
    "ax.set_xlabel('True zenith');\n",
    "ax.set_ylabel('Reconstructed zenith');\n",
    "fig.colorbar(im)"
   ]
  },
  {
   "cell_type": "markdown",
   "metadata": {
    "slideshow": {
     "slide_type": "slide"
    }
   },
   "source": [
    "## Exercise 6\n",
    "\n",
    "Create a histogram of the cascade probabilities (__`neutrinos`__ dataset: `proba_cscd` column) for the energy ranges 1-5 GeV, 5-10 GeV, 10-20 GeV and 20-100 GeV."
   ]
  },
  {
   "cell_type": "markdown",
   "metadata": {
    "slideshow": {
     "slide_type": "slide"
    }
   },
   "source": [
    "### Solution to exercise 6"
   ]
  },
  {
   "cell_type": "code",
   "execution_count": 22,
   "metadata": {
    "slideshow": {
     "slide_type": "fragment"
    }
   },
   "outputs": [
    {
     "data": {
      "image/png": "[encoded data removed]",
      "text/plain": [
       "<Figure size 720x360 with 4 Axes>"
      ]
     },
     "metadata": {
      "needs_background": "light"
     },
     "output_type": "display_data"
    }
   ],
   "source": [
    "ebins = [1, 5, 10, 20, 100]\n",
    "neutrinos['ebin'] = pd.cut(neutrinos.energy, ebins, labels=False)\n",
    "neutrinos.hist('proba_cscd', by='ebin', bins=50);"
   ]
  },
  {
   "cell_type": "markdown",
   "metadata": {
    "slideshow": {
     "slide_type": "slide"
    }
   },
   "source": [
    "## Exercise 7\n",
    "\n",
    "Create a 2D histogram showing the distribution of the `x` and `y` values of the starting positions (`pos_x` and `pos_y`) of the neutrinos. This is basically a 2D plane of the starting positions."
   ]
  },
  {
   "cell_type": "markdown",
   "metadata": {
    "slideshow": {
     "slide_type": "slide"
    }
   },
   "source": [
    "### Solution to exercise 7"
   ]
  },
  {
   "cell_type": "code",
   "execution_count": 23,
   "metadata": {
    "slideshow": {
     "slide_type": "fragment"
    }
   },
   "outputs": [
    {
     "data": {
      "image/png": "[encoded data removed]",
      "text/plain": [
       "<Figure size 720x360 with 2 Axes>"
      ]
     },
     "metadata": {
      "needs_background": "light"
     },
     "output_type": "display_data"
    }
   ],
   "source": [
    "fig, ax = plt.subplots()\n",
    "counts, xedges, yedges, im = plt.hist2d(data.pos_x, data.pos_y, bins=100, cmap='viridis')\n",
    "ax.set_xlabel('x [m]')\n",
    "ax.set_ylabel('y [m]')\n",
    "ax.set_title('2D Plane')\n",
    "fig.colorbar(im);"
   ]
  },
  {
   "cell_type": "markdown",
   "metadata": {
    "slideshow": {
     "slide_type": "slide"
    }
   },
   "source": [
    "## Exercise 8\n",
    "\n",
    "Check out `seaborn` (`import seaborn as sns`) and recreate the 2D histogram from Exercies 7."
   ]
  },
  {
   "cell_type": "markdown",
   "metadata": {
    "slideshow": {
     "slide_type": "slide"
    }
   },
   "source": [
    "### Solution to exercise 8"
   ]
  },
  {
   "cell_type": "code",
   "execution_count": 24,
   "metadata": {},
   "outputs": [
    {
     "data": {
      "image/png": "[encoded data removed]",
      "text/plain": [
       "<Figure size 360x360 with 2 Axes>"
      ]
     },
     "metadata": {
      "needs_background": "light"
     },
     "output_type": "display_data"
    }
   ],
   "source": [
    "sns.displot(data, x=\"pos_x\", y=\"pos_y\", cbar=True);"
   ]
  },
  {
   "cell_type": "code",
   "execution_count": 25,
   "metadata": {},
   "outputs": [
    {
     "data": {
      "text/plain": [
       "<seaborn.axisgrid.JointGrid at 0x150fbf4f0>"
      ]
     },
     "execution_count": 25,
     "metadata": {},
     "output_type": "execute_result"
    },
    {
     "data": {
      "image/png": "[encoded data removed]",
      "text/plain": [
       "<Figure size 432x432 with 3 Axes>"
      ]
     },
     "metadata": {
      "needs_background": "light"
     },
     "output_type": "display_data"
    }
   ],
   "source": [
    "sns.jointplot(data=data, x=\"pos_x\", y=\"pos_y\")"
   ]
  },
  {
   "cell_type": "markdown",
   "metadata": {
    "slideshow": {
     "slide_type": "slide"
    }
   },
   "source": [
    "## Exercise 9\n",
    "\n",
    "Create two histograms of the `azimuth` and `zenith` distribution side by side, in one plot (two subplots).\n",
    "\n",
    "Try `pandas` built-in matplotlib wrapper and also the raw matplotlib library."
   ]
  },
  {
   "cell_type": "code",
   "execution_count": 26,
   "metadata": {
    "slideshow": {
     "slide_type": "fragment"
    }
   },
   "outputs": [
    {
     "data": {
      "text/html": [
       "<div>\n",
       "<style scoped>\n",
       "    .dataframe tbody tr th:only-of-type {\n",
       "        vertical-align: middle;\n",
       "    }\n",
       "\n",
       "    .dataframe tbody tr th {\n",
       "        vertical-align: top;\n",
       "    }\n",
       "\n",
       "    .dataframe thead th {\n",
       "        text-align: right;\n",
       "    }\n",
       "</style>\n",
       "<table border=\"1\" class=\"dataframe\">\n",
       "  <thead>\n",
       "    <tr style=\"text-align: right;\">\n",
       "      <th></th>\n",
       "      <th>azimuth</th>\n",
       "      <th>zenith</th>\n",
       "      <th>bjorkeny</th>\n",
       "      <th>energy</th>\n",
       "      <th>pos_x</th>\n",
       "      <th>pos_y</th>\n",
       "      <th>pos_z</th>\n",
       "      <th>proba_track</th>\n",
       "      <th>proba_cscd</th>\n",
       "      <th>reco_zenith</th>\n",
       "      <th>reco_azimuth</th>\n",
       "      <th>reco_energy_muon</th>\n",
       "      <th>reco_energy_neutrino</th>\n",
       "      <th>reco_bjorken_y</th>\n",
       "      <th>reco_quality</th>\n",
       "      <th>reco_pos_x</th>\n",
       "      <th>reco_pos_y</th>\n",
       "      <th>reco_pos_z</th>\n",
       "    </tr>\n",
       "  </thead>\n",
       "  <tbody>\n",
       "    <tr>\n",
       "      <th>0</th>\n",
       "      <td>2.349537</td>\n",
       "      <td>1.116004</td>\n",
       "      <td>0.048998</td>\n",
       "      <td>3.3664</td>\n",
       "      <td>52.740</td>\n",
       "      <td>28.831</td>\n",
       "      <td>401.186</td>\n",
       "      <td>0.824351</td>\n",
       "      <td>0.175649</td>\n",
       "      <td>1.138133</td>\n",
       "      <td>2.180345</td>\n",
       "      <td>0.291326</td>\n",
       "      <td>1.968828</td>\n",
       "      <td>0.125</td>\n",
       "      <td>-4.354237</td>\n",
       "      <td>48.916672</td>\n",
       "      <td>32.404689</td>\n",
       "      <td>-6.251441</td>\n",
       "    </tr>\n",
       "    <tr>\n",
       "      <th>1</th>\n",
       "      <td>5.575786</td>\n",
       "      <td>1.742838</td>\n",
       "      <td>0.280471</td>\n",
       "      <td>3.8900</td>\n",
       "      <td>48.369</td>\n",
       "      <td>29.865</td>\n",
       "      <td>417.282</td>\n",
       "      <td>0.818363</td>\n",
       "      <td>0.181637</td>\n",
       "      <td>1.501718</td>\n",
       "      <td>4.300291</td>\n",
       "      <td>2.247325</td>\n",
       "      <td>3.973614</td>\n",
       "      <td>0.125</td>\n",
       "      <td>-4.853344</td>\n",
       "      <td>59.164913</td>\n",
       "      <td>26.016755</td>\n",
       "      <td>12.737107</td>\n",
       "    </tr>\n",
       "  </tbody>\n",
       "</table>\n",
       "</div>"
      ],
      "text/plain": [
       "    azimuth    zenith  bjorkeny  energy   pos_x   pos_y    pos_z  proba_track  \\\n",
       "0  2.349537  1.116004  0.048998  3.3664  52.740  28.831  401.186     0.824351   \n",
       "1  5.575786  1.742838  0.280471  3.8900  48.369  29.865  417.282     0.818363   \n",
       "\n",
       "   proba_cscd  reco_zenith  reco_azimuth  reco_energy_muon  \\\n",
       "0    0.175649     1.138133      2.180345          0.291326   \n",
       "1    0.181637     1.501718      4.300291          2.247325   \n",
       "\n",
       "   reco_energy_neutrino  reco_bjorken_y  reco_quality  reco_pos_x  reco_pos_y  \\\n",
       "0              1.968828           0.125     -4.354237   48.916672   32.404689   \n",
       "1              3.973614           0.125     -4.853344   59.164913   26.016755   \n",
       "\n",
       "   reco_pos_z  \n",
       "0   -6.251441  \n",
       "1   12.737107  "
      ]
     },
     "execution_count": 26,
     "metadata": {},
     "output_type": "execute_result"
    }
   ],
   "source": [
    "data.head(2)"
   ]
  },
  {
   "cell_type": "markdown",
   "metadata": {
    "slideshow": {
     "slide_type": "slide"
    }
   },
   "source": [
    "### Solution to exercise 9"
   ]
  },
  {
   "cell_type": "code",
   "execution_count": 27,
   "metadata": {
    "slideshow": {
     "slide_type": "fragment"
    }
   },
   "outputs": [
    {
     "data": {
      "image/png": "[encoded data removed]",
      "text/plain": [
       "<Figure size 720x216 with 2 Axes>"
      ]
     },
     "metadata": {
      "needs_background": "light"
     },
     "output_type": "display_data"
    }
   ],
   "source": [
    "data.hist(['azimuth', 'zenith'], bins=100, figsize=(10, 3));"
   ]
  },
  {
   "cell_type": "code",
   "execution_count": 28,
   "metadata": {
    "slideshow": {
     "slide_type": "subslide"
    }
   },
   "outputs": [
    {
     "data": {
      "image/png": "[encoded data removed]",
      "text/plain": [
       "<Figure size 720x216 with 2 Axes>"
      ]
     },
     "metadata": {
      "needs_background": "light"
     },
     "output_type": "display_data"
    }
   ],
   "source": [
    "fig, axes = plt.subplots(nrows=1, ncols=2, figsize=(10, 3))\n",
    "\n",
    "ax = axes[0]\n",
    "data.azimuth.hist(bins=100, ax=ax)  # zenith=0 is coming from above\n",
    "ax.set_xlabel('azimuth [rad]')\n",
    "ax.set_ylabel('count')\n",
    "\n",
    "ax = axes[1]\n",
    "data.zenith.hist(bins=100, ax=ax)\n",
    "ax.set_xlabel('zenith [rad]')\n",
    "ax.set_ylabel('count');"
   ]
  },
  {
   "cell_type": "code",
   "execution_count": 29,
   "metadata": {
    "slideshow": {
     "slide_type": "subslide"
    }
   },
   "outputs": [
    {
     "data": {
      "image/png": "[encoded data removed]",
      "text/plain": [
       "<Figure size 720x216 with 2 Axes>"
      ]
     },
     "metadata": {
      "needs_background": "light"
     },
     "output_type": "display_data"
    }
   ],
   "source": [
    "fig, axes = plt.subplots(nrows=1, ncols=2, figsize=(10, 3))\n",
    "\n",
    "for idx, column in enumerate(['azimuth', 'zenith']):\n",
    "    data[column].hist(bins=100, ax=axes[idx])  # zenith=0 is coming from above\n",
    "    axes[idx].set_xlabel(column + ' [rad]')\n",
    "    axes[idx].set_ylabel('count')"
   ]
  },
  {
   "cell_type": "markdown",
   "metadata": {
    "slideshow": {
     "slide_type": "slide"
    }
   },
   "source": [
    "## Exercise 10\n",
    "\n",
    "Split the data into two groups: `upgoing` and `downgoing`, based on the `zenith` value (`zenith == 0` is coming from above).\n",
    "\n",
    "Try out `sns.stripplot` to verify your \"cut\" on the data!"
   ]
  },
  {
   "cell_type": "markdown",
   "metadata": {
    "slideshow": {
     "slide_type": "slide"
    }
   },
   "source": [
    "### Solution to exercise 10"
   ]
  },
  {
   "cell_type": "markdown",
   "metadata": {},
   "source": [
    "Here, we are adding a new column to our dataset which contains True/False for each entry, regarding of its zenith direction"
   ]
  },
  {
   "cell_type": "code",
   "execution_count": 30,
   "metadata": {},
   "outputs": [],
   "source": [
    "data['upgoing'] = data.zenith < np.pi/2"
   ]
  },
  {
   "cell_type": "code",
   "execution_count": 31,
   "metadata": {
    "slideshow": {
     "slide_type": "fragment"
    }
   },
   "outputs": [],
   "source": [
    "data_by_upgoing = data.groupby('upgoing')"
   ]
  },
  {
   "cell_type": "markdown",
   "metadata": {},
   "source": [
    "Seaborn automatically recognises the grouped Pandas DataFrame:"
   ]
  },
  {
   "cell_type": "code",
   "execution_count": 32,
   "metadata": {
    "slideshow": {
     "slide_type": "fragment"
    }
   },
   "outputs": [
    {
     "data": {
      "image/png": "[encoded data removed]",
      "text/plain": [
       "<Figure size 720x360 with 1 Axes>"
      ]
     },
     "metadata": {
      "needs_background": "light"
     },
     "output_type": "display_data"
    }
   ],
   "source": [
    "sns.stripplot(x=\"upgoing\", y=\"zenith\", data=data);"
   ]
  },
  {
   "cell_type": "markdown",
   "metadata": {
    "slideshow": {
     "slide_type": "slide"
    }
   },
   "source": [
    "## Exercise 11\n",
    "\n",
    "Create a combined histogram (two histograms overlayed in the same plot) for both `upgoing` and `downgoing` datasets, showing the `zenith` angle."
   ]
  },
  {
   "cell_type": "markdown",
   "metadata": {
    "slideshow": {
     "slide_type": "slide"
    }
   },
   "source": [
    "### Solution to exercise 11"
   ]
  },
  {
   "cell_type": "code",
   "execution_count": 33,
   "metadata": {
    "slideshow": {
     "slide_type": "fragment"
    }
   },
   "outputs": [
    {
     "data": {
      "image/png": "[encoded data removed]",
      "text/plain": [
       "<Figure size 720x360 with 1 Axes>"
      ]
     },
     "metadata": {
      "needs_background": "light"
     },
     "output_type": "display_data"
    }
   ],
   "source": [
    "fig, ax = plt.subplots()\n",
    "\n",
    "for upgoing, sub_data in data_by_upgoing:\n",
    "    sub_data.hist('zenith', ax=ax, bins=100,\n",
    "                  label='upgoing' if upgoing else 'downgoing',\n",
    "                  histtype='step', linewidth=2)\n",
    "ax.legend();"
   ]
  },
  {
   "cell_type": "markdown",
   "metadata": {
    "slideshow": {
     "slide_type": "slide"
    }
   },
   "source": [
    "## Exercise: Read a KM3NeT Event File (`data/hits.h5`) and create ToT distributions of the hits for each digital optical module (dom_id) separately."
   ]
  },
  {
   "cell_type": "code",
   "execution_count": 34,
   "metadata": {},
   "outputs": [
    {
     "name": "stdout",
     "output_type": "stream",
     "text": [
      "/ (RootGroup) ''\n",
      "/hits (Group) ''\n",
      "/hits/axis0 (Array(5,)) ''\n",
      "/hits/axis1 (Array(2361,)) ''\n",
      "/hits/block0_items (Array(1,)) ''\n",
      "/hits/block0_values (Array(2361, 1)) ''\n",
      "/hits/block1_items (Array(1,)) ''\n",
      "/hits/block1_values (Array(2361, 1)) ''\n",
      "/hits/block2_items (Array(1,)) ''\n",
      "/hits/block2_values (Array(2361, 1)) ''\n",
      "/hits/block3_items (Array(2,)) ''\n",
      "/hits/block3_values (Array(2361, 2)) ''\n"
     ]
    }
   ],
   "source": [
    "!ptdump data/hits.h5"
   ]
  },
  {
   "cell_type": "code",
   "execution_count": 35,
   "metadata": {},
   "outputs": [],
   "source": [
    "hits = pd.read_hdf(\"data/hits.h5\", \"/hits\")"
   ]
  },
  {
   "cell_type": "code",
   "execution_count": 36,
   "metadata": {},
   "outputs": [
    {
     "data": {
      "text/html": [
       "<div>\n",
       "<style scoped>\n",
       "    .dataframe tbody tr th:only-of-type {\n",
       "        vertical-align: middle;\n",
       "    }\n",
       "\n",
       "    .dataframe tbody tr th {\n",
       "        vertical-align: top;\n",
       "    }\n",
       "\n",
       "    .dataframe thead th {\n",
       "        text-align: right;\n",
       "    }\n",
       "</style>\n",
       "<table border=\"1\" class=\"dataframe\">\n",
       "  <thead>\n",
       "    <tr style=\"text-align: right;\">\n",
       "      <th></th>\n",
       "      <th>dom_id</th>\n",
       "      <th>pmt_id</th>\n",
       "      <th>time</th>\n",
       "      <th>tot</th>\n",
       "      <th>triggermask</th>\n",
       "    </tr>\n",
       "  </thead>\n",
       "  <tbody>\n",
       "    <tr>\n",
       "      <th>0</th>\n",
       "      <td>808949902</td>\n",
       "      <td>28</td>\n",
       "      <td>15920424</td>\n",
       "      <td>22</td>\n",
       "      <td>4</td>\n",
       "    </tr>\n",
       "    <tr>\n",
       "      <th>1</th>\n",
       "      <td>808949902</td>\n",
       "      <td>30</td>\n",
       "      <td>15920388</td>\n",
       "      <td>28</td>\n",
       "      <td>4</td>\n",
       "    </tr>\n",
       "    <tr>\n",
       "      <th>2</th>\n",
       "      <td>808963189</td>\n",
       "      <td>2</td>\n",
       "      <td>15920664</td>\n",
       "      <td>30</td>\n",
       "      <td>6</td>\n",
       "    </tr>\n",
       "    <tr>\n",
       "      <th>3</th>\n",
       "      <td>808963189</td>\n",
       "      <td>7</td>\n",
       "      <td>15920663</td>\n",
       "      <td>18</td>\n",
       "      <td>6</td>\n",
       "    </tr>\n",
       "    <tr>\n",
       "      <th>4</th>\n",
       "      <td>808963189</td>\n",
       "      <td>11</td>\n",
       "      <td>15920658</td>\n",
       "      <td>27</td>\n",
       "      <td>6</td>\n",
       "    </tr>\n",
       "    <tr>\n",
       "      <th>...</th>\n",
       "      <td>...</td>\n",
       "      <td>...</td>\n",
       "      <td>...</td>\n",
       "      <td>...</td>\n",
       "      <td>...</td>\n",
       "    </tr>\n",
       "    <tr>\n",
       "      <th>2356</th>\n",
       "      <td>808985283</td>\n",
       "      <td>9</td>\n",
       "      <td>3870706</td>\n",
       "      <td>26</td>\n",
       "      <td>4</td>\n",
       "    </tr>\n",
       "    <tr>\n",
       "      <th>2357</th>\n",
       "      <td>808985283</td>\n",
       "      <td>11</td>\n",
       "      <td>3870702</td>\n",
       "      <td>26</td>\n",
       "      <td>4</td>\n",
       "    </tr>\n",
       "    <tr>\n",
       "      <th>2358</th>\n",
       "      <td>808985283</td>\n",
       "      <td>16</td>\n",
       "      <td>3870707</td>\n",
       "      <td>6</td>\n",
       "      <td>4</td>\n",
       "    </tr>\n",
       "    <tr>\n",
       "      <th>2359</th>\n",
       "      <td>809004291</td>\n",
       "      <td>2</td>\n",
       "      <td>3870610</td>\n",
       "      <td>27</td>\n",
       "      <td>4</td>\n",
       "    </tr>\n",
       "    <tr>\n",
       "      <th>2360</th>\n",
       "      <td>809004291</td>\n",
       "      <td>17</td>\n",
       "      <td>3870616</td>\n",
       "      <td>24</td>\n",
       "      <td>4</td>\n",
       "    </tr>\n",
       "  </tbody>\n",
       "</table>\n",
       "<p>2361 rows × 5 columns</p>\n",
       "</div>"
      ],
      "text/plain": [
       "         dom_id  pmt_id      time  tot  triggermask\n",
       "0     808949902      28  15920424   22            4\n",
       "1     808949902      30  15920388   28            4\n",
       "2     808963189       2  15920664   30            6\n",
       "3     808963189       7  15920663   18            6\n",
       "4     808963189      11  15920658   27            6\n",
       "...         ...     ...       ...  ...          ...\n",
       "2356  808985283       9   3870706   26            4\n",
       "2357  808985283      11   3870702   26            4\n",
       "2358  808985283      16   3870707    6            4\n",
       "2359  809004291       2   3870610   27            4\n",
       "2360  809004291      17   3870616   24            4\n",
       "\n",
       "[2361 rows x 5 columns]"
      ]
     },
     "execution_count": 36,
     "metadata": {},
     "output_type": "execute_result"
    }
   ],
   "source": [
    "hits"
   ]
  },
  {
   "cell_type": "code",
   "execution_count": 37,
   "metadata": {},
   "outputs": [
    {
     "data": {
      "image/png": "[encoded data removed]",
      "text/plain": [
       "<Figure size 720x360 with 1 Axes>"
      ]
     },
     "metadata": {
      "needs_background": "light"
     },
     "output_type": "display_data"
    }
   ],
   "source": [
    "hits.tot.hist(bins=100);"
   ]
  },
  {
   "cell_type": "code",
   "execution_count": 38,
   "metadata": {},
   "outputs": [],
   "source": [
    "hits_by_dom_id = hits.groupby(\"dom_id\")"
   ]
  },
  {
   "cell_type": "code",
   "execution_count": 39,
   "metadata": {},
   "outputs": [
    {
     "data": {
      "text/plain": [
       "<pandas.core.groupby.generic.DataFrameGroupBy object at 0x14f56cac0>"
      ]
     },
     "execution_count": 39,
     "metadata": {},
     "output_type": "execute_result"
    }
   ],
   "source": [
    "hits_by_dom_id"
   ]
  },
  {
   "cell_type": "code",
   "execution_count": 40,
   "metadata": {},
   "outputs": [
    {
     "data": {
      "text/plain": [
       "dict_keys([808432848, 808432849, 808476737, 808483667, 808483678, 808945480, 808945629, 808949646, 808949902, 808963189, 808968978, 808971989, 808982030, 808982065, 808985283, 809004291, 809548770])"
      ]
     },
     "execution_count": 40,
     "metadata": {},
     "output_type": "execute_result"
    }
   ],
   "source": [
    "hits_by_dom_id.groups.keys()"
   ]
  },
  {
   "cell_type": "code",
   "execution_count": 41,
   "metadata": {},
   "outputs": [
    {
     "name": "stdout",
     "output_type": "stream",
     "text": [
      "808432848\n",
      "         dom_id  pmt_id      time  tot  triggermask\n",
      "13    808432848      28  59317389   24            4\n",
      "35    808432848       3  75610163   25           22\n",
      "36    808432848       4  75610160   30           22\n",
      "37    808432848       6  75610160   26           22\n",
      "38    808432848       8  75610157   38           22\n",
      "...         ...     ...       ...  ...          ...\n",
      "2264  808432848       0  96099772   32           22\n",
      "2265  808432848       5  96099773   30           22\n",
      "2326  808432848       0  18579789   42           22\n",
      "2327  808432848       1  18579798   23           22\n",
      "2328  808432848       5  18579793   30           22\n",
      "\n",
      "[147 rows x 5 columns]\n",
      "808432849\n",
      "         dom_id  pmt_id      time  tot  triggermask\n",
      "14    808432849      30  59317328   20            4\n",
      "40    808432849       6  75610081   30           22\n",
      "41    808432849       8  75610071   29           22\n",
      "42    808432849      28  75610141   22            4\n",
      "183   808432849       0  60031724   32            4\n",
      "...         ...     ...       ...  ...          ...\n",
      "2329  808432849       0  18579721   24           22\n",
      "2330  808432849       2  18579722   27           22\n",
      "2331  808432849       5  18579717   28           22\n",
      "2332  808432849      28  18579762   22            4\n",
      "2333  808432849      30  18579719   24           22\n",
      "\n",
      "[113 rows x 5 columns]\n",
      "808476737\n",
      "         dom_id  pmt_id      time  tot  triggermask\n",
      "272   808476737       4  27831613   25           22\n",
      "273   808476737       7  27831611   23           22\n",
      "274   808476737       8  27831620    5           22\n",
      "292   808476737       0  14080362   46            6\n",
      "293   808476737       1  14080362   25            6\n",
      "...         ...     ...       ...  ...          ...\n",
      "2218  808476737      16  90010110   38           22\n",
      "2219  808476737      27  90010115   30           22\n",
      "2220  808476737      28  90010111   38           22\n",
      "2315  808476737      10   6905458   21            6\n",
      "2316  808476737      17   6905455   32            6\n",
      "\n",
      "[164 rows x 5 columns]\n",
      "808483667\n",
      "         dom_id  pmt_id      time  tot  triggermask\n",
      "15    808483667       0  59317473   22            6\n",
      "16    808483667       2  59317458   24            6\n",
      "17    808483667       4  59317463   24            6\n",
      "18    808483667      30  59317481   14            6\n",
      "43    808483667       0  75610243   29           22\n",
      "...         ...     ...       ...  ...          ...\n",
      "2336  808483667       5  18579867   37           22\n",
      "2337  808483667       7  18579876   26           22\n",
      "2338  808483667      11  18579867   19           22\n",
      "2339  808483667      27  18579868   29           22\n",
      "2340  808483667      28  18579870   19           22\n",
      "\n",
      "[133 rows x 5 columns]\n",
      "808483678\n",
      "         dom_id  pmt_id      time  tot  triggermask\n",
      "585   808483678       6  62371631   28            4\n",
      "586   808483678      16  62371625   26            4\n",
      "839   808483678       0  64074121   26           22\n",
      "840   808483678       3  64074120   31           22\n",
      "841   808483678       4  64074137   15           22\n",
      "...         ...     ...       ...  ...          ...\n",
      "2222  808483678      11  90010198   26           22\n",
      "2317  808483678      10   6905506   37            6\n",
      "2318  808483678      14   6905505    7            6\n",
      "2319  808483678      14   6905518   18            6\n",
      "2320  808483678      18   6905508   26            6\n",
      "\n",
      "[99 rows x 5 columns]\n",
      "808945480\n",
      "         dom_id  pmt_id      time  tot  triggermask\n",
      "99    808945480       0  92314613   18            4\n",
      "100   808945480      23  92314607   33            4\n",
      "101   808945480      30  92314606   28            4\n",
      "275   808945480       0  27831523   27           22\n",
      "276   808945480       3  27831530   14           22\n",
      "...         ...     ...       ...  ...          ...\n",
      "2204  808945480      10  97399779   21            6\n",
      "2205  808945480      11  97399773   22            6\n",
      "2223  808945480       1  90010035   43           22\n",
      "2224  808945480       7  90010034   25           22\n",
      "2225  808945480      27  90010060   21            4\n",
      "\n",
      "[174 rows x 5 columns]\n",
      "808945629\n",
      "         dom_id  pmt_id      time  tot  triggermask\n",
      "19    808945629       0  59317531   42            6\n",
      "20    808945629       2  59317529   13            6\n",
      "21    808945629       3  59317525   24            6\n",
      "46    808945629       3  75610333   29            4\n",
      "47    808945629      21  75610358   30            4\n",
      "...         ...     ...       ...  ...          ...\n",
      "2341  808945629       1  18579955   26           22\n",
      "2342  808945629       2  18579956   28           22\n",
      "2343  808945629       5  18579952   37           22\n",
      "2344  808945629       7  18579961   49           22\n",
      "2345  808945629      12  18579957   23           22\n",
      "\n",
      "[133 rows x 5 columns]\n",
      "808949646\n",
      "         dom_id  pmt_id      time  tot  triggermask\n",
      "546   808949646       5  15682384   31           22\n",
      "547   808949646       7  15682377   26           22\n",
      "548   808949646       8  15682388   23           22\n",
      "549   808949646       9  15682383   34           22\n",
      "550   808949646      11  15682382   32           22\n",
      "...         ...     ...       ...  ...          ...\n",
      "2212  808949646      20  97399987   30            6\n",
      "2321  808949646       1   6905558   11            6\n",
      "2322  808949646       7   6905555   49            6\n",
      "2323  808949646      10   6905566   27            6\n",
      "2324  808949646      11   6905558   29            6\n",
      "\n",
      "[72 rows x 5 columns]\n",
      "808949902\n",
      "         dom_id  pmt_id      time  tot  triggermask\n",
      "0     808949902      28  15920424   22            4\n",
      "1     808949902      30  15920388   28            4\n",
      "24    808949902       2  79528113   19            4\n",
      "25    808949902       8  79528059   25            2\n",
      "26    808949902      11  79528067   22            2\n",
      "...         ...     ...       ...  ...          ...\n",
      "2236  808949902      20  50367984   32           22\n",
      "2237  808949902      28  50367985   22           22\n",
      "2279  808949902      11  53736148    5           22\n",
      "2280  808949902      12  53736147   28           22\n",
      "2281  808949902      16  53736141   24           22\n",
      "\n",
      "[165 rows x 5 columns]\n",
      "808963189\n",
      "         dom_id  pmt_id      time  tot  triggermask\n",
      "2     808963189       2  15920664   30            6\n",
      "3     808963189       7  15920663   18            6\n",
      "4     808963189      11  15920658   27            6\n",
      "5     808963189      16  15920667   27            6\n",
      "53    808963189       1   3151119   25            4\n",
      "...         ...     ...       ...  ...          ...\n",
      "2187  808963189      30  34405119   35           22\n",
      "2238  808963189      11  50368346   24            4\n",
      "2282  808963189       1  53736459   28           22\n",
      "2283  808963189       7  53736468   35           22\n",
      "2348  808963189       1   3870535   15            4\n",
      "\n",
      "[116 rows x 5 columns]\n",
      "808968978\n",
      "         dom_id  pmt_id      time  tot  triggermask\n",
      "6     808968978       0  15920585   53            4\n",
      "7     808968978       2  15920627   14            4\n",
      "28    808968978       6  79528321   18            6\n",
      "29    808968978      10  79528319   27            6\n",
      "55    808968978       0   3151030   28           22\n",
      "...         ...     ...       ...  ...          ...\n",
      "2242  808968978      10  50368246   25           22\n",
      "2243  808968978      11  50368243   32           22\n",
      "2244  808968978      16  50368247   26           22\n",
      "2284  808968978      23  53736377    3           22\n",
      "2285  808968978      30  53736371   26           22\n",
      "\n",
      "[128 rows x 5 columns]\n",
      "808971989\n",
      "         dom_id  pmt_id      time  tot  triggermask\n",
      "22    808971989       0  59317604   15            6\n",
      "23    808971989       5  59317601   28            6\n",
      "30    808971989       4  79528113   28            4\n",
      "48    808971989       0  75610425   26           22\n",
      "49    808971989       8  75610420   23           22\n",
      "...         ...     ...       ...  ...          ...\n",
      "2273  808971989      30  96100009   16           22\n",
      "2286  808971989       2  53736081   25            4\n",
      "2287  808971989      12  53736079   22            4\n",
      "2346  808971989       1  18580043   35           22\n",
      "2347  808971989       9  18580042   31           22\n",
      "\n",
      "[154 rows x 5 columns]\n",
      "808982030\n",
      "         dom_id  pmt_id      time  tot  triggermask\n",
      "114   808982030      30  92314535   24            4\n",
      "220   808982030      21  73034777   23            4\n",
      "284   808982030       4  27831457   14           22\n",
      "285   808982030      21  27831454   27           22\n",
      "286   808982030      23  27831452   30           22\n",
      "...         ...     ...       ...  ...          ...\n",
      "2275  808982030       5  96100726   28           16\n",
      "2325  808982030      12   6905348   22            4\n",
      "2349  808982030       7   3870804   25            4\n",
      "2350  808982030       9   3870804   27            4\n",
      "2351  808982030      11   3870806   31            4\n",
      "\n",
      "[191 rows x 5 columns]\n",
      "808982065\n",
      "         dom_id  pmt_id      time  tot  triggermask\n",
      "8     808982065       1  15920520   25            6\n",
      "9     808982065      26  15920514   25            6\n",
      "10    808982065      27  15920518   54            6\n",
      "31    808982065      15  79528241   32            4\n",
      "60    808982065       3   3150955   31           22\n",
      "...         ...     ...       ...  ...          ...\n",
      "2298  808982065      19  53736303   19            4\n",
      "2299  808982065      20  53736281   29           22\n",
      "2300  808982065      25  53736289   27           22\n",
      "2301  808982065      26  53736285   27           22\n",
      "2302  808982065      28  53736295   26           22\n",
      "\n",
      "[154 rows x 5 columns]\n",
      "808985283\n",
      "         dom_id  pmt_id      time  tot  triggermask\n",
      "221   808985283       3  73034665   25            6\n",
      "222   808985283       5  73034662   26            6\n",
      "223   808985283      30  73034663   25            6\n",
      "287   808985283       6  27831394   26           22\n",
      "288   808985283      29  27831390   26           22\n",
      "...         ...     ...       ...  ...          ...\n",
      "2354  808985283       7   3870700   27            4\n",
      "2355  808985283       8   3870723   28            4\n",
      "2356  808985283       9   3870706   26            4\n",
      "2357  808985283      11   3870702   26            4\n",
      "2358  808985283      16   3870707    6            4\n",
      "\n",
      "[138 rows x 5 columns]\n",
      "809004291\n",
      "         dom_id  pmt_id      time  tot  triggermask\n",
      "91    809004291       0  53077432   16           22\n",
      "92    809004291       1  53077421   51           22\n",
      "93    809004291       4  53077423   27           22\n",
      "94    809004291       6  53077423   29           22\n",
      "95    809004291       7  53077421   29           22\n",
      "...         ...     ...       ...  ...          ...\n",
      "2256  809004291       4  50368423   18           22\n",
      "2257  809004291       5  50368424   29           22\n",
      "2258  809004291      10  50368429   20           22\n",
      "2359  809004291       2   3870610   27            4\n",
      "2360  809004291      17   3870616   24            4\n",
      "\n",
      "[130 rows x 5 columns]\n",
      "809548770\n",
      "         dom_id  pmt_id      time  tot  triggermask\n",
      "11    809548770       0  15920482   24            6\n",
      "12    809548770      28  15920479   28            6\n",
      "32    809548770      10  79528160   21            6\n",
      "33    809548770      11  79528157   19            6\n",
      "34    809548770      12  79528157   25            6\n",
      "...         ...     ...       ...  ...          ...\n",
      "2310  809548770      16  53736218   34           22\n",
      "2311  809548770      17  53736219   37           22\n",
      "2312  809548770      20  53736220   25           22\n",
      "2313  809548770      27  53736223   20           22\n",
      "2314  809548770      30  53736247   33           22\n",
      "\n",
      "[150 rows x 5 columns]\n"
     ]
    }
   ],
   "source": [
    "for dom_id, dom_hits in hits_by_dom_id:\n",
    "    print(dom_id)\n",
    "    print(dom_hits)"
   ]
  },
  {
   "cell_type": "code",
   "execution_count": 42,
   "metadata": {},
   "outputs": [
    {
     "data": {
      "text/html": [
       "<div>\n",
       "<style scoped>\n",
       "    .dataframe tbody tr th:only-of-type {\n",
       "        vertical-align: middle;\n",
       "    }\n",
       "\n",
       "    .dataframe tbody tr th {\n",
       "        vertical-align: top;\n",
       "    }\n",
       "\n",
       "    .dataframe thead th {\n",
       "        text-align: right;\n",
       "    }\n",
       "</style>\n",
       "<table border=\"1\" class=\"dataframe\">\n",
       "  <thead>\n",
       "    <tr style=\"text-align: right;\">\n",
       "      <th></th>\n",
       "      <th>dom_id</th>\n",
       "      <th>pmt_id</th>\n",
       "      <th>time</th>\n",
       "      <th>tot</th>\n",
       "      <th>triggermask</th>\n",
       "    </tr>\n",
       "  </thead>\n",
       "  <tbody>\n",
       "    <tr>\n",
       "      <th>11</th>\n",
       "      <td>809548770</td>\n",
       "      <td>0</td>\n",
       "      <td>15920482</td>\n",
       "      <td>24</td>\n",
       "      <td>6</td>\n",
       "    </tr>\n",
       "    <tr>\n",
       "      <th>12</th>\n",
       "      <td>809548770</td>\n",
       "      <td>28</td>\n",
       "      <td>15920479</td>\n",
       "      <td>28</td>\n",
       "      <td>6</td>\n",
       "    </tr>\n",
       "    <tr>\n",
       "      <th>32</th>\n",
       "      <td>809548770</td>\n",
       "      <td>10</td>\n",
       "      <td>79528160</td>\n",
       "      <td>21</td>\n",
       "      <td>6</td>\n",
       "    </tr>\n",
       "    <tr>\n",
       "      <th>33</th>\n",
       "      <td>809548770</td>\n",
       "      <td>11</td>\n",
       "      <td>79528157</td>\n",
       "      <td>19</td>\n",
       "      <td>6</td>\n",
       "    </tr>\n",
       "    <tr>\n",
       "      <th>34</th>\n",
       "      <td>809548770</td>\n",
       "      <td>12</td>\n",
       "      <td>79528157</td>\n",
       "      <td>25</td>\n",
       "      <td>6</td>\n",
       "    </tr>\n",
       "    <tr>\n",
       "      <th>...</th>\n",
       "      <td>...</td>\n",
       "      <td>...</td>\n",
       "      <td>...</td>\n",
       "      <td>...</td>\n",
       "      <td>...</td>\n",
       "    </tr>\n",
       "    <tr>\n",
       "      <th>2310</th>\n",
       "      <td>809548770</td>\n",
       "      <td>16</td>\n",
       "      <td>53736218</td>\n",
       "      <td>34</td>\n",
       "      <td>22</td>\n",
       "    </tr>\n",
       "    <tr>\n",
       "      <th>2311</th>\n",
       "      <td>809548770</td>\n",
       "      <td>17</td>\n",
       "      <td>53736219</td>\n",
       "      <td>37</td>\n",
       "      <td>22</td>\n",
       "    </tr>\n",
       "    <tr>\n",
       "      <th>2312</th>\n",
       "      <td>809548770</td>\n",
       "      <td>20</td>\n",
       "      <td>53736220</td>\n",
       "      <td>25</td>\n",
       "      <td>22</td>\n",
       "    </tr>\n",
       "    <tr>\n",
       "      <th>2313</th>\n",
       "      <td>809548770</td>\n",
       "      <td>27</td>\n",
       "      <td>53736223</td>\n",
       "      <td>20</td>\n",
       "      <td>22</td>\n",
       "    </tr>\n",
       "    <tr>\n",
       "      <th>2314</th>\n",
       "      <td>809548770</td>\n",
       "      <td>30</td>\n",
       "      <td>53736247</td>\n",
       "      <td>33</td>\n",
       "      <td>22</td>\n",
       "    </tr>\n",
       "  </tbody>\n",
       "</table>\n",
       "<p>150 rows × 5 columns</p>\n",
       "</div>"
      ],
      "text/plain": [
       "         dom_id  pmt_id      time  tot  triggermask\n",
       "11    809548770       0  15920482   24            6\n",
       "12    809548770      28  15920479   28            6\n",
       "32    809548770      10  79528160   21            6\n",
       "33    809548770      11  79528157   19            6\n",
       "34    809548770      12  79528157   25            6\n",
       "...         ...     ...       ...  ...          ...\n",
       "2310  809548770      16  53736218   34           22\n",
       "2311  809548770      17  53736219   37           22\n",
       "2312  809548770      20  53736220   25           22\n",
       "2313  809548770      27  53736223   20           22\n",
       "2314  809548770      30  53736247   33           22\n",
       "\n",
       "[150 rows x 5 columns]"
      ]
     },
     "execution_count": 42,
     "metadata": {},
     "output_type": "execute_result"
    }
   ],
   "source": [
    "hits_by_dom_id.get_group(809548770)"
   ]
  },
  {
   "cell_type": "code",
   "execution_count": 43,
   "metadata": {},
   "outputs": [
    {
     "data": {
      "text/plain": [
       "dom_id\n",
       "808432848    28.564626\n",
       "808432849    37.769912\n",
       "808476737    28.274390\n",
       "808483667    29.353383\n",
       "808483678    26.868687\n",
       "808945480    30.936782\n",
       "808945629    28.759398\n",
       "808949646    27.902778\n",
       "808949902    37.242424\n",
       "808963189    26.637931\n",
       "808968978    29.289062\n",
       "808971989    26.733766\n",
       "808982030    29.047120\n",
       "808982065    29.662338\n",
       "808985283    28.985507\n",
       "809004291    27.815385\n",
       "809548770    26.820000\n",
       "Name: tot, dtype: float64"
      ]
     },
     "execution_count": 43,
     "metadata": {},
     "output_type": "execute_result"
    }
   ],
   "source": [
    "hits_by_dom_id[\"tot\"].agg(\"mean\")"
   ]
  },
  {
   "cell_type": "code",
   "execution_count": 44,
   "metadata": {},
   "outputs": [
    {
     "data": {
      "text/html": [
       "<div>\n",
       "<style scoped>\n",
       "    .dataframe tbody tr th:only-of-type {\n",
       "        vertical-align: middle;\n",
       "    }\n",
       "\n",
       "    .dataframe tbody tr th {\n",
       "        vertical-align: top;\n",
       "    }\n",
       "\n",
       "    .dataframe thead th {\n",
       "        text-align: right;\n",
       "    }\n",
       "</style>\n",
       "<table border=\"1\" class=\"dataframe\">\n",
       "  <thead>\n",
       "    <tr style=\"text-align: right;\">\n",
       "      <th></th>\n",
       "      <th>pmt_id</th>\n",
       "      <th>time</th>\n",
       "      <th>tot</th>\n",
       "      <th>triggermask</th>\n",
       "    </tr>\n",
       "    <tr>\n",
       "      <th>dom_id</th>\n",
       "      <th></th>\n",
       "      <th></th>\n",
       "      <th></th>\n",
       "      <th></th>\n",
       "    </tr>\n",
       "  </thead>\n",
       "  <tbody>\n",
       "    <tr>\n",
       "      <th>808432848</th>\n",
       "      <td>5</td>\n",
       "      <td>4934675</td>\n",
       "      <td>28</td>\n",
       "      <td>4</td>\n",
       "    </tr>\n",
       "    <tr>\n",
       "      <th>808432849</th>\n",
       "      <td>5</td>\n",
       "      <td>3075269</td>\n",
       "      <td>27</td>\n",
       "      <td>16</td>\n",
       "    </tr>\n",
       "    <tr>\n",
       "      <th>808476737</th>\n",
       "      <td>5</td>\n",
       "      <td>4933532</td>\n",
       "      <td>22</td>\n",
       "      <td>6</td>\n",
       "    </tr>\n",
       "    <tr>\n",
       "      <th>808483667</th>\n",
       "      <td>8</td>\n",
       "      <td>4934738</td>\n",
       "      <td>22</td>\n",
       "      <td>4</td>\n",
       "    </tr>\n",
       "    <tr>\n",
       "      <th>808483678</th>\n",
       "      <td>0</td>\n",
       "      <td>6197196</td>\n",
       "      <td>34</td>\n",
       "      <td>22</td>\n",
       "    </tr>\n",
       "    <tr>\n",
       "      <th>808945480</th>\n",
       "      <td>0</td>\n",
       "      <td>3076435</td>\n",
       "      <td>29</td>\n",
       "      <td>16</td>\n",
       "    </tr>\n",
       "    <tr>\n",
       "      <th>808945629</th>\n",
       "      <td>7</td>\n",
       "      <td>4934811</td>\n",
       "      <td>58</td>\n",
       "      <td>4</td>\n",
       "    </tr>\n",
       "    <tr>\n",
       "      <th>808949646</th>\n",
       "      <td>7</td>\n",
       "      <td>6905555</td>\n",
       "      <td>49</td>\n",
       "      <td>6</td>\n",
       "    </tr>\n",
       "    <tr>\n",
       "      <th>808949902</th>\n",
       "      <td>0</td>\n",
       "      <td>3075703</td>\n",
       "      <td>24</td>\n",
       "      <td>4</td>\n",
       "    </tr>\n",
       "    <tr>\n",
       "      <th>808963189</th>\n",
       "      <td>1</td>\n",
       "      <td>3151119</td>\n",
       "      <td>25</td>\n",
       "      <td>4</td>\n",
       "    </tr>\n",
       "    <tr>\n",
       "      <th>808968978</th>\n",
       "      <td>5</td>\n",
       "      <td>3075973</td>\n",
       "      <td>21</td>\n",
       "      <td>22</td>\n",
       "    </tr>\n",
       "    <tr>\n",
       "      <th>808971989</th>\n",
       "      <td>13</td>\n",
       "      <td>3294215</td>\n",
       "      <td>23</td>\n",
       "      <td>4</td>\n",
       "    </tr>\n",
       "    <tr>\n",
       "      <th>808982030</th>\n",
       "      <td>0</td>\n",
       "      <td>3076342</td>\n",
       "      <td>26</td>\n",
       "      <td>16</td>\n",
       "    </tr>\n",
       "    <tr>\n",
       "      <th>808982065</th>\n",
       "      <td>0</td>\n",
       "      <td>3075888</td>\n",
       "      <td>60</td>\n",
       "      <td>22</td>\n",
       "    </tr>\n",
       "    <tr>\n",
       "      <th>808985283</th>\n",
       "      <td>7</td>\n",
       "      <td>3870700</td>\n",
       "      <td>27</td>\n",
       "      <td>4</td>\n",
       "    </tr>\n",
       "    <tr>\n",
       "      <th>809004291</th>\n",
       "      <td>2</td>\n",
       "      <td>3870610</td>\n",
       "      <td>27</td>\n",
       "      <td>4</td>\n",
       "    </tr>\n",
       "    <tr>\n",
       "      <th>809548770</th>\n",
       "      <td>0</td>\n",
       "      <td>3075808</td>\n",
       "      <td>32</td>\n",
       "      <td>22</td>\n",
       "    </tr>\n",
       "  </tbody>\n",
       "</table>\n",
       "</div>"
      ],
      "text/plain": [
       "           pmt_id     time  tot  triggermask\n",
       "dom_id                                      \n",
       "808432848       5  4934675   28            4\n",
       "808432849       5  3075269   27           16\n",
       "808476737       5  4933532   22            6\n",
       "808483667       8  4934738   22            4\n",
       "808483678       0  6197196   34           22\n",
       "808945480       0  3076435   29           16\n",
       "808945629       7  4934811   58            4\n",
       "808949646       7  6905555   49            6\n",
       "808949902       0  3075703   24            4\n",
       "808963189       1  3151119   25            4\n",
       "808968978       5  3075973   21           22\n",
       "808971989      13  3294215   23            4\n",
       "808982030       0  3076342   26           16\n",
       "808982065       0  3075888   60           22\n",
       "808985283       7  3870700   27            4\n",
       "809004291       2  3870610   27            4\n",
       "809548770       0  3075808   32           22"
      ]
     },
     "execution_count": 44,
     "metadata": {},
     "output_type": "execute_result"
    }
   ],
   "source": [
    "hits.sort_values(['dom_id', 'time']).groupby(\"dom_id\").first()"
   ]
  },
  {
   "cell_type": "code",
   "execution_count": 45,
   "metadata": {
    "slideshow": {
     "slide_type": "subslide"
    }
   },
   "outputs": [
    {
     "data": {
      "image/png": "[encoded data removed]",
      "text/plain": [
       "<Figure size 1152x432 with 18 Axes>"
      ]
     },
     "metadata": {
      "needs_background": "light"
     },
     "output_type": "display_data"
    }
   ],
   "source": [
    "hits_by_dom_id = hits.groupby('dom_id')\n",
    "\n",
    "fig, axes = plt.subplots(nrows=6, ncols=3, figsize=(16, 6), sharex=True, sharey=True)\n",
    "\n",
    "hist_style = {'bins': 50, 'density': True, 'histtype': 'step', 'linewidth': 2}\n",
    "\n",
    "for ax, (dom, _hits) in zip(axes.flatten(), hits_by_dom_id):\n",
    "    ax.hist(_hits['tot'], label=f\"DOM {dom}\", **hist_style)\n",
    "    ax.legend()\n",
    "    ax.set_xlabel('tot [ns]')"
   ]
  },
  {
   "cell_type": "markdown",
   "metadata": {
    "slideshow": {
     "slide_type": "slide"
    }
   },
   "source": [
    "### Exercise: Create a histogram of all time differences between consecutive hits calculated on each DOM independently"
   ]
  },
  {
   "cell_type": "code",
   "execution_count": 46,
   "metadata": {
    "slideshow": {
     "slide_type": "subslide"
    }
   },
   "outputs": [
    {
     "data": {
      "image/png": "[encoded data removed]",
      "text/plain": [
       "<Figure size 720x360 with 1 Axes>"
      ]
     },
     "metadata": {
      "needs_background": "light"
     },
     "output_type": "display_data"
    }
   ],
   "source": [
    "hits.sort_values(['dom_id', 'time']).groupby('dom_id')['time'].agg('diff').hist(bins=100, log=True);"
   ]
  },
  {
   "cell_type": "markdown",
   "metadata": {
    "slideshow": {
     "slide_type": "slide"
    }
   },
   "source": [
    "### Exercise: Examine the data for time differences below 50ns"
   ]
  },
  {
   "cell_type": "code",
   "execution_count": 47,
   "metadata": {
    "slideshow": {
     "slide_type": "fragment"
    }
   },
   "outputs": [],
   "source": [
    "time_diffs = hits.sort_values(['dom_id', 'time']).groupby('dom_id')['time'].agg('diff')"
   ]
  },
  {
   "cell_type": "code",
   "execution_count": 48,
   "metadata": {
    "slideshow": {
     "slide_type": "fragment"
    }
   },
   "outputs": [
    {
     "data": {
      "image/png": "[encoded data removed]",
      "text/plain": [
       "<Figure size 720x360 with 1 Axes>"
      ]
     },
     "metadata": {
      "needs_background": "light"
     },
     "output_type": "display_data"
    }
   ],
   "source": [
    "time_diffs[time_diffs < 50].hist(bins=50, log=True);"
   ]
  },
  {
   "cell_type": "markdown",
   "metadata": {},
   "source": [
    "### Exercise: examine the hits on each PMT of each DOM"
   ]
  },
  {
   "cell_type": "code",
   "execution_count": 49,
   "metadata": {},
   "outputs": [],
   "source": [
    "hits_by_dom_id_and_pmt_id = hits.groupby([\"dom_id\", \"pmt_id\"])"
   ]
  },
  {
   "cell_type": "code",
   "execution_count": 50,
   "metadata": {},
   "outputs": [
    {
     "data": {
      "text/plain": [
       "[(808432848, 0),\n",
       " (808432848, 1),\n",
       " (808432848, 2),\n",
       " (808432848, 3),\n",
       " (808432848, 4),\n",
       " (808432848, 5)]"
      ]
     },
     "execution_count": 50,
     "metadata": {},
     "output_type": "execute_result"
    }
   ],
   "source": [
    "list(hits_by_dom_id_and_pmt_id.groups.keys())[:6]"
   ]
  },
  {
   "cell_type": "code",
   "execution_count": 51,
   "metadata": {},
   "outputs": [
    {
     "data": {
      "text/html": [
       "<div>\n",
       "<style scoped>\n",
       "    .dataframe tbody tr th:only-of-type {\n",
       "        vertical-align: middle;\n",
       "    }\n",
       "\n",
       "    .dataframe tbody tr th {\n",
       "        vertical-align: top;\n",
       "    }\n",
       "\n",
       "    .dataframe thead th {\n",
       "        text-align: right;\n",
       "    }\n",
       "</style>\n",
       "<table border=\"1\" class=\"dataframe\">\n",
       "  <thead>\n",
       "    <tr style=\"text-align: right;\">\n",
       "      <th></th>\n",
       "      <th>dom_id</th>\n",
       "      <th>pmt_id</th>\n",
       "      <th>time</th>\n",
       "      <th>tot</th>\n",
       "      <th>triggermask</th>\n",
       "    </tr>\n",
       "  </thead>\n",
       "  <tbody>\n",
       "    <tr>\n",
       "      <th>35</th>\n",
       "      <td>808432848</td>\n",
       "      <td>3</td>\n",
       "      <td>75610163</td>\n",
       "      <td>25</td>\n",
       "      <td>22</td>\n",
       "    </tr>\n",
       "    <tr>\n",
       "      <th>489</th>\n",
       "      <td>808432848</td>\n",
       "      <td>3</td>\n",
       "      <td>73595706</td>\n",
       "      <td>26</td>\n",
       "      <td>22</td>\n",
       "    </tr>\n",
       "    <tr>\n",
       "      <th>663</th>\n",
       "      <td>808432848</td>\n",
       "      <td>3</td>\n",
       "      <td>58998874</td>\n",
       "      <td>19</td>\n",
       "      <td>22</td>\n",
       "    </tr>\n",
       "    <tr>\n",
       "      <th>909</th>\n",
       "      <td>808432848</td>\n",
       "      <td>3</td>\n",
       "      <td>75455015</td>\n",
       "      <td>2</td>\n",
       "      <td>22</td>\n",
       "    </tr>\n",
       "    <tr>\n",
       "      <th>1260</th>\n",
       "      <td>808432848</td>\n",
       "      <td>3</td>\n",
       "      <td>56939545</td>\n",
       "      <td>20</td>\n",
       "      <td>4</td>\n",
       "    </tr>\n",
       "    <tr>\n",
       "      <th>1480</th>\n",
       "      <td>808432848</td>\n",
       "      <td>3</td>\n",
       "      <td>10769186</td>\n",
       "      <td>5</td>\n",
       "      <td>22</td>\n",
       "    </tr>\n",
       "    <tr>\n",
       "      <th>1712</th>\n",
       "      <td>808432848</td>\n",
       "      <td>3</td>\n",
       "      <td>4972133</td>\n",
       "      <td>22</td>\n",
       "      <td>22</td>\n",
       "    </tr>\n",
       "    <tr>\n",
       "      <th>1713</th>\n",
       "      <td>808432848</td>\n",
       "      <td>3</td>\n",
       "      <td>4972156</td>\n",
       "      <td>25</td>\n",
       "      <td>22</td>\n",
       "    </tr>\n",
       "    <tr>\n",
       "      <th>1881</th>\n",
       "      <td>808432848</td>\n",
       "      <td>3</td>\n",
       "      <td>26984956</td>\n",
       "      <td>21</td>\n",
       "      <td>22</td>\n",
       "    </tr>\n",
       "  </tbody>\n",
       "</table>\n",
       "</div>"
      ],
      "text/plain": [
       "         dom_id  pmt_id      time  tot  triggermask\n",
       "35    808432848       3  75610163   25           22\n",
       "489   808432848       3  73595706   26           22\n",
       "663   808432848       3  58998874   19           22\n",
       "909   808432848       3  75455015    2           22\n",
       "1260  808432848       3  56939545   20            4\n",
       "1480  808432848       3  10769186    5           22\n",
       "1712  808432848       3   4972133   22           22\n",
       "1713  808432848       3   4972156   25           22\n",
       "1881  808432848       3  26984956   21           22"
      ]
     },
     "execution_count": 51,
     "metadata": {},
     "output_type": "execute_result"
    }
   ],
   "source": [
    "hits_by_dom_id_and_pmt_id.get_group((808432848, 3))"
   ]
  },
  {
   "cell_type": "code",
   "execution_count": 52,
   "metadata": {},
   "outputs": [],
   "source": [
    "hits_analysis = hits_by_dom_id_and_pmt_id[\"tot\"].agg([\"mean\", \"min\", \"max\", \"count\"])"
   ]
  },
  {
   "cell_type": "code",
   "execution_count": 53,
   "metadata": {},
   "outputs": [
    {
     "data": {
      "text/html": [
       "<div>\n",
       "<style scoped>\n",
       "    .dataframe tbody tr th:only-of-type {\n",
       "        vertical-align: middle;\n",
       "    }\n",
       "\n",
       "    .dataframe tbody tr th {\n",
       "        vertical-align: top;\n",
       "    }\n",
       "\n",
       "    .dataframe thead th {\n",
       "        text-align: right;\n",
       "    }\n",
       "</style>\n",
       "<table border=\"1\" class=\"dataframe\">\n",
       "  <thead>\n",
       "    <tr style=\"text-align: right;\">\n",
       "      <th></th>\n",
       "      <th></th>\n",
       "      <th>mean</th>\n",
       "      <th>min</th>\n",
       "      <th>max</th>\n",
       "      <th>count</th>\n",
       "    </tr>\n",
       "    <tr>\n",
       "      <th>dom_id</th>\n",
       "      <th>pmt_id</th>\n",
       "      <th></th>\n",
       "      <th></th>\n",
       "      <th></th>\n",
       "      <th></th>\n",
       "    </tr>\n",
       "  </thead>\n",
       "  <tbody>\n",
       "    <tr>\n",
       "      <th rowspan=\"5\" valign=\"top\">808432848</th>\n",
       "      <th>0</th>\n",
       "      <td>27.083333</td>\n",
       "      <td>16</td>\n",
       "      <td>42</td>\n",
       "      <td>12</td>\n",
       "    </tr>\n",
       "    <tr>\n",
       "      <th>1</th>\n",
       "      <td>23.285714</td>\n",
       "      <td>11</td>\n",
       "      <td>32</td>\n",
       "      <td>7</td>\n",
       "    </tr>\n",
       "    <tr>\n",
       "      <th>2</th>\n",
       "      <td>24.875000</td>\n",
       "      <td>9</td>\n",
       "      <td>51</td>\n",
       "      <td>8</td>\n",
       "    </tr>\n",
       "    <tr>\n",
       "      <th>3</th>\n",
       "      <td>18.333333</td>\n",
       "      <td>2</td>\n",
       "      <td>26</td>\n",
       "      <td>9</td>\n",
       "    </tr>\n",
       "    <tr>\n",
       "      <th>4</th>\n",
       "      <td>30.111111</td>\n",
       "      <td>4</td>\n",
       "      <td>67</td>\n",
       "      <td>9</td>\n",
       "    </tr>\n",
       "    <tr>\n",
       "      <th>...</th>\n",
       "      <th>...</th>\n",
       "      <td>...</td>\n",
       "      <td>...</td>\n",
       "      <td>...</td>\n",
       "      <td>...</td>\n",
       "    </tr>\n",
       "    <tr>\n",
       "      <th rowspan=\"5\" valign=\"top\">809548770</th>\n",
       "      <th>26</th>\n",
       "      <td>9.000000</td>\n",
       "      <td>9</td>\n",
       "      <td>9</td>\n",
       "      <td>1</td>\n",
       "    </tr>\n",
       "    <tr>\n",
       "      <th>27</th>\n",
       "      <td>22.250000</td>\n",
       "      <td>3</td>\n",
       "      <td>37</td>\n",
       "      <td>8</td>\n",
       "    </tr>\n",
       "    <tr>\n",
       "      <th>28</th>\n",
       "      <td>26.000000</td>\n",
       "      <td>23</td>\n",
       "      <td>28</td>\n",
       "      <td>4</td>\n",
       "    </tr>\n",
       "    <tr>\n",
       "      <th>29</th>\n",
       "      <td>36.000000</td>\n",
       "      <td>34</td>\n",
       "      <td>38</td>\n",
       "      <td>2</td>\n",
       "    </tr>\n",
       "    <tr>\n",
       "      <th>30</th>\n",
       "      <td>26.250000</td>\n",
       "      <td>5</td>\n",
       "      <td>38</td>\n",
       "      <td>4</td>\n",
       "    </tr>\n",
       "  </tbody>\n",
       "</table>\n",
       "<p>491 rows × 4 columns</p>\n",
       "</div>"
      ],
      "text/plain": [
       "                       mean  min  max  count\n",
       "dom_id    pmt_id                            \n",
       "808432848 0       27.083333   16   42     12\n",
       "          1       23.285714   11   32      7\n",
       "          2       24.875000    9   51      8\n",
       "          3       18.333333    2   26      9\n",
       "          4       30.111111    4   67      9\n",
       "...                     ...  ...  ...    ...\n",
       "809548770 26       9.000000    9    9      1\n",
       "          27      22.250000    3   37      8\n",
       "          28      26.000000   23   28      4\n",
       "          29      36.000000   34   38      2\n",
       "          30      26.250000    5   38      4\n",
       "\n",
       "[491 rows x 4 columns]"
      ]
     },
     "execution_count": 53,
     "metadata": {},
     "output_type": "execute_result"
    }
   ],
   "source": [
    "hits_analysis"
   ]
  },
  {
   "cell_type": "code",
   "execution_count": 54,
   "metadata": {},
   "outputs": [
    {
     "data": {
      "text/html": [
       "<div>\n",
       "<style scoped>\n",
       "    .dataframe tbody tr th:only-of-type {\n",
       "        vertical-align: middle;\n",
       "    }\n",
       "\n",
       "    .dataframe tbody tr th {\n",
       "        vertical-align: top;\n",
       "    }\n",
       "\n",
       "    .dataframe thead th {\n",
       "        text-align: right;\n",
       "    }\n",
       "</style>\n",
       "<table border=\"1\" class=\"dataframe\">\n",
       "  <thead>\n",
       "    <tr style=\"text-align: right;\">\n",
       "      <th></th>\n",
       "      <th></th>\n",
       "      <th>mean</th>\n",
       "      <th>min</th>\n",
       "      <th>max</th>\n",
       "      <th>n_hits</th>\n",
       "    </tr>\n",
       "    <tr>\n",
       "      <th>dom_id</th>\n",
       "      <th>pmt_id</th>\n",
       "      <th></th>\n",
       "      <th></th>\n",
       "      <th></th>\n",
       "      <th></th>\n",
       "    </tr>\n",
       "  </thead>\n",
       "  <tbody>\n",
       "    <tr>\n",
       "      <th rowspan=\"5\" valign=\"top\">808432848</th>\n",
       "      <th>0</th>\n",
       "      <td>27.083333</td>\n",
       "      <td>16</td>\n",
       "      <td>42</td>\n",
       "      <td>12</td>\n",
       "    </tr>\n",
       "    <tr>\n",
       "      <th>1</th>\n",
       "      <td>23.285714</td>\n",
       "      <td>11</td>\n",
       "      <td>32</td>\n",
       "      <td>7</td>\n",
       "    </tr>\n",
       "    <tr>\n",
       "      <th>2</th>\n",
       "      <td>24.875000</td>\n",
       "      <td>9</td>\n",
       "      <td>51</td>\n",
       "      <td>8</td>\n",
       "    </tr>\n",
       "    <tr>\n",
       "      <th>3</th>\n",
       "      <td>18.333333</td>\n",
       "      <td>2</td>\n",
       "      <td>26</td>\n",
       "      <td>9</td>\n",
       "    </tr>\n",
       "    <tr>\n",
       "      <th>4</th>\n",
       "      <td>30.111111</td>\n",
       "      <td>4</td>\n",
       "      <td>67</td>\n",
       "      <td>9</td>\n",
       "    </tr>\n",
       "    <tr>\n",
       "      <th>...</th>\n",
       "      <th>...</th>\n",
       "      <td>...</td>\n",
       "      <td>...</td>\n",
       "      <td>...</td>\n",
       "      <td>...</td>\n",
       "    </tr>\n",
       "    <tr>\n",
       "      <th rowspan=\"5\" valign=\"top\">809548770</th>\n",
       "      <th>26</th>\n",
       "      <td>9.000000</td>\n",
       "      <td>9</td>\n",
       "      <td>9</td>\n",
       "      <td>1</td>\n",
       "    </tr>\n",
       "    <tr>\n",
       "      <th>27</th>\n",
       "      <td>22.250000</td>\n",
       "      <td>3</td>\n",
       "      <td>37</td>\n",
       "      <td>8</td>\n",
       "    </tr>\n",
       "    <tr>\n",
       "      <th>28</th>\n",
       "      <td>26.000000</td>\n",
       "      <td>23</td>\n",
       "      <td>28</td>\n",
       "      <td>4</td>\n",
       "    </tr>\n",
       "    <tr>\n",
       "      <th>29</th>\n",
       "      <td>36.000000</td>\n",
       "      <td>34</td>\n",
       "      <td>38</td>\n",
       "      <td>2</td>\n",
       "    </tr>\n",
       "    <tr>\n",
       "      <th>30</th>\n",
       "      <td>26.250000</td>\n",
       "      <td>5</td>\n",
       "      <td>38</td>\n",
       "      <td>4</td>\n",
       "    </tr>\n",
       "  </tbody>\n",
       "</table>\n",
       "<p>491 rows × 4 columns</p>\n",
       "</div>"
      ],
      "text/plain": [
       "                       mean  min  max  n_hits\n",
       "dom_id    pmt_id                             \n",
       "808432848 0       27.083333   16   42      12\n",
       "          1       23.285714   11   32       7\n",
       "          2       24.875000    9   51       8\n",
       "          3       18.333333    2   26       9\n",
       "          4       30.111111    4   67       9\n",
       "...                     ...  ...  ...     ...\n",
       "809548770 26       9.000000    9    9       1\n",
       "          27      22.250000    3   37       8\n",
       "          28      26.000000   23   28       4\n",
       "          29      36.000000   34   38       2\n",
       "          30      26.250000    5   38       4\n",
       "\n",
       "[491 rows x 4 columns]"
      ]
     },
     "execution_count": 54,
     "metadata": {},
     "output_type": "execute_result"
    }
   ],
   "source": [
    "hits_analysis.rename(columns={\"count\": \"n_hits\"})"
   ]
  },
  {
   "cell_type": "markdown",
   "metadata": {},
   "source": [
    "### Custom aggregation functions and a word on performance"
   ]
  },
  {
   "cell_type": "code",
   "execution_count": 55,
   "metadata": {},
   "outputs": [],
   "source": [
    "rng = np.random.default_rng(42)  # initialise our random number generator\n",
    "\n",
    "N = 1_000_000\n",
    "pmt_id = rng.integers(0, 10, N)\n",
    "quantum_efficiency = rng.random(N)"
   ]
  },
  {
   "cell_type": "code",
   "execution_count": 56,
   "metadata": {},
   "outputs": [
    {
     "data": {
      "text/plain": [
       "(array([0, 7, 6, ..., 9, 0, 1]),\n",
       " array([0.36055581, 0.05036582, 0.97409122, ..., 0.60500792, 0.04017111,\n",
       "        0.06131384]))"
      ]
     },
     "execution_count": 56,
     "metadata": {},
     "output_type": "execute_result"
    }
   ],
   "source": [
    "pmt_id, quantum_efficiency"
   ]
  },
  {
   "cell_type": "code",
   "execution_count": 57,
   "metadata": {},
   "outputs": [],
   "source": [
    "df = pd.DataFrame({\"pmt_id\": pmt_id, \"quantum_efficiency\": quantum_efficiency})"
   ]
  },
  {
   "cell_type": "code",
   "execution_count": 58,
   "metadata": {},
   "outputs": [
    {
     "data": {
      "text/html": [
       "<div>\n",
       "<style scoped>\n",
       "    .dataframe tbody tr th:only-of-type {\n",
       "        vertical-align: middle;\n",
       "    }\n",
       "\n",
       "    .dataframe tbody tr th {\n",
       "        vertical-align: top;\n",
       "    }\n",
       "\n",
       "    .dataframe thead th {\n",
       "        text-align: right;\n",
       "    }\n",
       "</style>\n",
       "<table border=\"1\" class=\"dataframe\">\n",
       "  <thead>\n",
       "    <tr style=\"text-align: right;\">\n",
       "      <th></th>\n",
       "      <th>pmt_id</th>\n",
       "      <th>quantum_efficiency</th>\n",
       "    </tr>\n",
       "  </thead>\n",
       "  <tbody>\n",
       "    <tr>\n",
       "      <th>0</th>\n",
       "      <td>0</td>\n",
       "      <td>0.360556</td>\n",
       "    </tr>\n",
       "    <tr>\n",
       "      <th>1</th>\n",
       "      <td>7</td>\n",
       "      <td>0.050366</td>\n",
       "    </tr>\n",
       "    <tr>\n",
       "      <th>2</th>\n",
       "      <td>6</td>\n",
       "      <td>0.974091</td>\n",
       "    </tr>\n",
       "    <tr>\n",
       "      <th>3</th>\n",
       "      <td>4</td>\n",
       "      <td>0.571595</td>\n",
       "    </tr>\n",
       "    <tr>\n",
       "      <th>4</th>\n",
       "      <td>4</td>\n",
       "      <td>0.776772</td>\n",
       "    </tr>\n",
       "  </tbody>\n",
       "</table>\n",
       "</div>"
      ],
      "text/plain": [
       "   pmt_id  quantum_efficiency\n",
       "0       0            0.360556\n",
       "1       7            0.050366\n",
       "2       6            0.974091\n",
       "3       4            0.571595\n",
       "4       4            0.776772"
      ]
     },
     "execution_count": 58,
     "metadata": {},
     "output_type": "execute_result"
    }
   ],
   "source": [
    "df.head()"
   ]
  },
  {
   "cell_type": "code",
   "execution_count": 59,
   "metadata": {},
   "outputs": [
    {
     "name": "stdout",
     "output_type": "stream",
     "text": [
      "9.57 ms ± 237 µs per loop (mean ± std. dev. of 7 runs, 100 loops each)\n"
     ]
    }
   ],
   "source": [
    "%timeit df.groupby(pmt_id).mean()"
   ]
  },
  {
   "cell_type": "code",
   "execution_count": 60,
   "metadata": {},
   "outputs": [],
   "source": [
    "def slow_mean(values):\n",
    "    return sum(values)/len(values)"
   ]
  },
  {
   "cell_type": "code",
   "execution_count": 61,
   "metadata": {},
   "outputs": [
    {
     "name": "stdout",
     "output_type": "stream",
     "text": [
      "102 ms ± 567 µs per loop (mean ± std. dev. of 7 runs, 10 loops each)\n"
     ]
    }
   ],
   "source": [
    "%timeit df.groupby(pmt_id).agg(slow_mean)"
   ]
  },
  {
   "cell_type": "code",
   "execution_count": 62,
   "metadata": {},
   "outputs": [
    {
     "name": "stdout",
     "output_type": "stream",
     "text": [
      "102 ms ± 1.21 ms per loop (mean ± std. dev. of 7 runs, 10 loops each)\n"
     ]
    }
   ],
   "source": [
    "%timeit df.groupby(pmt_id).agg(slow_mean, engine=\"cython\")"
   ]
  },
  {
   "cell_type": "code",
   "execution_count": 63,
   "metadata": {},
   "outputs": [
    {
     "name": "stdout",
     "output_type": "stream",
     "text": [
      "\u001b[31m\u001b[1mNumbaUtilError: The first 2 arguments to slow_mean must be ['values', 'index']\u001b[0m\n"
     ]
    }
   ],
   "source": [
    "%shorterr df.groupby(pmt_id).agg(slow_mean, engine=\"numba\")"
   ]
  },
  {
   "cell_type": "code",
   "execution_count": 64,
   "metadata": {},
   "outputs": [],
   "source": [
    "def slow_mean_numba(values, index):\n",
    "    return np.sum(values) / len(values)"
   ]
  },
  {
   "cell_type": "code",
   "execution_count": 65,
   "metadata": {},
   "outputs": [
    {
     "name": "stdout",
     "output_type": "stream",
     "text": [
      "27.8 ms ± 2.14 ms per loop (mean ± std. dev. of 7 runs, 1 loop each)\n"
     ]
    }
   ],
   "source": [
    "%timeit df.groupby(pmt_id).agg(slow_mean_numba, engine=\"numba\")"
   ]
  }
 ],
 "metadata": {
  "celltoolbar": "Slideshow",
  "kernelspec": {
   "display_name": "Python 3",
   "language": "python",
   "name": "python3"
  },
  "language_info": {
   "codemirror_mode": {
    "name": "ipython",
    "version": 3
   },
   "file_extension": ".py",
   "mimetype": "text/x-python",
   "name": "python",
   "nbconvert_exporter": "python",
   "pygments_lexer": "ipython3",
   "version": "3.9.4"
  }
 },
 "nbformat": 4,
 "nbformat_minor": 4
}
